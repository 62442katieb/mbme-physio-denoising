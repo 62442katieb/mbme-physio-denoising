{
 "cells": [
  {
   "cell_type": "code",
   "execution_count": 1,
   "metadata": {},
   "outputs": [],
   "source": [
    "import numpy as np\n",
    "import pandas as pd\n",
    "import seaborn as sns\n",
    "import bioread as br\n",
    "import dtw\n",
    "\n",
    "import matplotlib.pyplot as plt\n",
    "import scipy.signal as signal\n",
    "import sklearn\n",
    "import os\n",
    "from sklearn.metrics import normalized_mutual_info_score, pairwise_distances\n",
    "from scipy.stats import spearmanr"
   ]
  },
  {
   "cell_type": "code",
   "execution_count": 2,
   "metadata": {},
   "outputs": [
    {
     "name": "stdout",
     "output_type": "stream",
     "text": [
      "bioread, v. 1.0.4\n",
      "numpy, v. 1.19.0\n",
      "dtw, v. 1.4.0\n",
      "sklearn, v. 0.23.1\n"
     ]
    }
   ],
   "source": [
    "print('bioread, v.', br.__version__)\n",
    "print('numpy, v.', np.__version__)\n",
    "print('dtw, v.', dtw.__version__)\n",
    "print('sklearn, v.', sklearn.__version__)"
   ]
  },
  {
   "cell_type": "code",
   "execution_count": 3,
   "metadata": {},
   "outputs": [],
   "source": [
    "#sns.crayons"
   ]
  },
  {
   "cell_type": "code",
   "execution_count": 4,
   "metadata": {},
   "outputs": [
    {
     "data": {
      "image/png": "[encoded data removed]",
      "text/plain": [
       "<Figure size 360x72 with 1 Axes>"
      ]
     },
     "metadata": {
      "needs_background": "light"
     },
     "output_type": "display_data"
    }
   ],
   "source": [
    "sns.set_context('paper')\n",
    "\n",
    "pal = sns.crayon_palette(['Outrageous Orange', 'Red Orange', 'Orange', 'Yellow Orange', 'Burnt Orange'])\n",
    "sns.set_palette(pal)\n",
    "sns.palplot(pal)"
   ]
  },
  {
   "cell_type": "code",
   "execution_count": 5,
   "metadata": {},
   "outputs": [],
   "source": [
    "pd.options.mode.chained_assignment = None\n",
    "\n",
    "def consecutive(data, stepsize=0.000501):\n",
    "    return np.split(data, np.where(np.diff(data) != stepsize)[0]+1)\n",
    "\n",
    "def butter_highpass(cutoff, fs, order=5):\n",
    "    nyq = 0.5 * fs\n",
    "    normal_cutoff = cutoff / nyq\n",
    "    b, a = signal.butter(order, normal_cutoff, btype='high', analog=False)\n",
    "    return b, a\n",
    "\n",
    "def butter_highpass_filter(data, cutoff, fs, order=5):\n",
    "    b, a = butter_highpass(cutoff, fs, order=order)\n",
    "    y = signal.filtfilt(b, a, data)\n",
    "    return y\n",
    "\n",
    "def comb_band_stop(notch, filtered, Q, fs):\n",
    "    max_harmonic = int(nyquist/notch)\n",
    "    min_harmonic = 1\n",
    "    for i in np.arange(1, max_harmonic):\n",
    "        #print(notch * i)\n",
    "        f0 = notch * i\n",
    "        w0 = f0/nyquist\n",
    "        b,a = signal.iirnotch(w0, Q)\n",
    "        filtered = signal.filtfilt(b, a, filtered)\n",
    "    j = 1\n",
    "    while (notch / j) > 1:\n",
    "        #print(notch * i)\n",
    "        f0 = notch / i\n",
    "        w0 = f0/nyquist\n",
    "        b,a = signal.iirnotch(w0, Q)\n",
    "        filtered = signal.filtfilt(b, a, filtered)\n",
    "        j += 1\n",
    "    return filtered"
   ]
  },
  {
   "cell_type": "code",
   "execution_count": 6,
   "metadata": {},
   "outputs": [],
   "source": [
    "data_fname = '/Users/kbottenh/Dropbox/Projects/physio/mbme-physio-denoising/example_data/4232_1_Musser_K23_redux.acq'\n",
    "data = br.read_file(data_fname)\n",
    "basename = data_fname.split('/')[-1][:-4]\n",
    "out_dir = '/Users/kbottenh/Dropbox/Projects/physio/physio-note'\n",
    "\n",
    "if not os.path.exists('{0}/data'.format(out_dir)):\n",
    "    os.mkdir('{0}/data'.format(out_dir))\n",
    "    os.mkdir('{0}/data/clean'.format(out_dir))\n",
    "    os.mkdir('{0}/data/raw'.format(out_dir))\n",
    "    os.mkdir('{0}/figures'.format(out_dir))\n",
    "    \n",
    "for channel in data.named_channels:\n",
    "    #print(channel)\n",
    "    if 'ECG' in channel:\n",
    "        ecg_channel = channel\n",
    "    elif 'Digital' in channel:\n",
    "        trigger = channel\n",
    "    elif 'EDA' in channel:\n",
    "        eda_channel = channel\n",
    "    elif 'Respiration' in channel:\n",
    "        resp_channel = channel\n",
    "\n",
    "timeseries = pd.DataFrame(columns=['ECG', 'EDA', 'Trigger', 'Resp', 'seconds'])\n",
    "\n",
    "timeseries['Trigger'] = data.named_channels[trigger].data\n",
    "timeseries['ECG'] = data.named_channels[ecg_channel].data\n",
    "timeseries['seconds'] = data.time_index\n",
    "timeseries.to_csv('{0}/data/raw/{1}-raw.csv'.format(out_dir, basename))\n",
    "\n",
    "#separating timeseries collected during BOLD scan\n",
    "#(where trigger channel = 5V)\n",
    "fives = timeseries[timeseries['Trigger'] == 5].index.values\n",
    "scan_idx = consecutive(fives, stepsize=1)\n",
    "\n",
    "#from DIVA\n",
    "#slices = 48\n",
    "#tr = 1.5\n",
    "#mb = 3\n",
    "\n",
    "slices = 60\n",
    "tr = 0.8\n",
    "mb = 6\n",
    "cutoff = 120\n",
    "\n",
    "fs = data.samples_per_second\n",
    "\n",
    "nyquist = fs/2\n",
    "Q = 100"
   ]
  },
  {
   "cell_type": "code",
   "execution_count": 7,
   "metadata": {},
   "outputs": [],
   "source": [
    "fft_ecg_nomri = signal.decimate(np.fft.fft(timeseries[timeseries['Trigger'] != 5]['ECG'][:1000000]), 10)\n",
    "freq_ecg_nomri = signal.decimate(np.fft.fftfreq(timeseries[timeseries['Trigger'] != 5]['ECG'][:1000000].shape[-1], d=0.0005), 10)\n",
    "\n",
    "limit = np.where(freq_ecg_nomri >= 60)[0][0]"
   ]
  },
  {
   "cell_type": "code",
   "execution_count": 8,
   "metadata": {},
   "outputs": [
    {
     "name": "stdout",
     "output_type": "stream",
     "text": [
      "{0: 5.588508333333333, 1: 5.595275, 2: 5.592233333333334, 3: 5.602908333333334, 4: 5.001625000000001, 5: 5.0017}\n"
     ]
    }
   ],
   "source": [
    "scans = {}\n",
    "for i in range(len(scan_idx)):\n",
    "    duration = len(scan_idx[i])/2000./60\n",
    "    #print(i, np.round(duration, 1), 'minutes')\n",
    "    if duration > 2.:\n",
    "        scans[i] = duration\n",
    "print(scans)"
   ]
  },
  {
   "cell_type": "code",
   "execution_count": 9,
   "metadata": {},
   "outputs": [
    {
     "data": {
      "image/png": "[encoded data removed]",
      "text/plain": [
       "<Figure size 432x288 with 1 Axes>"
      ]
     },
     "metadata": {
      "needs_background": "light"
     },
     "output_type": "display_data"
    }
   ],
   "source": [
    "fft_ecg = {}\n",
    "freq = {}\n",
    "ecg = {}\n",
    "for scan in scans.keys():\n",
    "    ecg[scan] = timeseries[timeseries.index.isin(scan_idx[scan])]['ECG']\n",
    "    fft_ecg[scan] = signal.decimate(np.fft.fft(ecg[scan]), 10)\n",
    "    freq[scan] = signal.decimate(np.fft.fftfreq(ecg[scan].shape[-1], d=0.0005), 10)\n",
    "    limit = np.where(freq[scan].real >= 60)[0][0]\n",
    "    sns.lineplot(freq[scan][:limit], fft_ecg[scan].real[:limit])"
   ]
  },
  {
   "cell_type": "code",
   "execution_count": 10,
   "metadata": {},
   "outputs": [
    {
     "data": {
      "text/plain": [
       "1822"
      ]
     },
     "execution_count": 10,
     "metadata": {},
     "output_type": "execute_result"
    }
   ],
   "source": [
    "np.where(freq[scan].real >= 60)[0][0]"
   ]
  },
  {
   "cell_type": "code",
   "execution_count": 11,
   "metadata": {},
   "outputs": [],
   "source": [
    "steps_in_denoising = ['raw', 'BIOPAC', 'MB-BIOPAC', 'Bottenhorn']"
   ]
  },
  {
   "cell_type": "code",
   "execution_count": 12,
   "metadata": {},
   "outputs": [],
   "source": [
    "index = pd.MultiIndex.from_product([scans.keys(), steps_in_denoising], names=['scan', 'step'])"
   ]
  },
  {
   "cell_type": "code",
   "execution_count": null,
   "metadata": {},
   "outputs": [],
   "source": [
    "#msc = {}\n",
    "dist = pd.DataFrame(index=index, columns=index, dtype=float)\n",
    "for scan1 in scans.keys():\n",
    "    fft1 = fft_ecg[scan1].real\n",
    "    corr = np.corrcoef(abs(fft1[:18007]), abs(fft_ecg_nomri[:18007]))[0][1]\n",
    "    dist.at[(scan1, 'raw'), 'noMR'] = corr\n",
    "    \n",
    "    notch = slices / tr\n",
    "    filtered = comb_band_stop(notch, ecg[scan1], Q, fs)\n",
    "    fft_bpfilt1 = signal.decimate(np.fft.fft(filtered),10)\n",
    "    corr = np.corrcoef(abs(fft_bpfilt1[:18007]), abs(fft_ecg_nomri[:18007]))[0][1]\n",
    "    dist.at[(scan1, 'BIOPAC'), 'noMR'] = corr\n",
    "    \n",
    "    corr = np.corrcoef(abs(fft1[:18007]), abs(fft_bpfilt1[:18007]))[0][1]\n",
    "    dist.at[(scan1, 'raw'), (scan1, 'BIOPAC')] = corr\n",
    "    dist.at[(scan1, 'BIOPAC'), (scan1, 'raw')] = corr\n",
    "    \n",
    "    notch = slices / mb / tr\n",
    "    filtered = comb_band_stop(notch, ecg[scan1], Q, fs)\n",
    "    fft_bpmbfilt1 = signal.decimate(np.fft.fft(filtered), 10)\n",
    "    corr = np.corrcoef(abs(fft_bpmbfilt1[:18007]), abs(fft_ecg_nomri[:18007]))[0][1]\n",
    "    dist.at[(scan1, 'MB-BIOPAC'), 'noMR'] = corr\n",
    "    corr = np.corrcoef(abs(fft1[:18007]), abs(fft_bpmbfilt1[:18007]))[0][1]\n",
    "    dist.at[(scan1, 'raw'), (scan1, 'MB-BIOPAC')] = corr\n",
    "    dist.at[(scan1, 'MB-BIOPAC'), (scan1, 'raw')] = corr\n",
    "    corr = np.corrcoef(abs(fft_bpmbfilt1[:18007]), abs(fft_bpfilt1[:18007]))[0][1]\n",
    "    dist.at[(scan1, 'BIOPAC'), (scan1, 'MB-BIOPAC')] = corr\n",
    "    dist.at[(scan1, 'MB-BIOPAC'), (scan1, 'BIOPAC')] = corr\n",
    "    \n",
    "    notches = {'slices': slices / mb / tr, \n",
    "               'tr': 1 / tr}\n",
    "    filtered1 = ecg[scan1]\n",
    "    for notch in notches:\n",
    "        filtered1 = comb_band_stop(notches[notch], filtered1, Q, fs)\n",
    "    \n",
    "    fft_bottfilt1 = signal.decimate(np.fft.fft(filtered1), 10)\n",
    "    corr = np.corrcoef(abs(fft_bottfilt1[:18007]), abs(fft_ecg_nomri[:18007]))[0][1]\n",
    "    dist.at[(scan1, 'Bottenhorn'), 'noMR'] = corr\n",
    "    corr = np.corrcoef(abs(fft_bottfilt1[:18007]), abs(fft_ecg_nomri[:18007]))[0][1]\n",
    "    dist.at[(scan1, 'Bottenhorn'), 'noMR'] = corr\n",
    "    \n",
    "    corr = np.corrcoef(abs(fft_bottfilt1[:18007]), abs(fft1[:18007]))[0][1]\n",
    "    dist.at[(scan1, 'raw'), (scan1, 'Bottenhorn')] = corr\n",
    "    dist.at[(scan1, 'Bottenhorn'), (scan1, 'raw')] = corr\n",
    "    corr = np.corrcoef(abs(fft_bottfilt1[:18007]), abs(fft_bpfilt1[:18007]))[0][1]\n",
    "    dist.at[(scan1, 'BIOPAC'), (scan1, 'Bottenhorn')] = corr\n",
    "    dist.at[(scan1, 'Bottenhorn'), (scan1, 'BIOPAC')] = corr\n",
    "    corr = np.corrcoef(abs(fft_bottfilt1[:18007]), abs(fft_bpmbfilt1[:18007]))[0][1]\n",
    "    dist.at[(scan1, 'MB-BIOPAC'), (scan1, 'Bottenhorn')] = corr\n",
    "    dist.at[(scan1, 'Bottenhorn'), (scan1, 'MB-BIOPAC')] = corr\n",
    "\n",
    "    for scan2 in scans.keys():\n",
    "        fft2 = fft_ecg[scan2].real\n",
    "        corr =  np.corrcoef(abs(fft1[:18007]), abs(fft2[:18007]))[0][1]\n",
    "        dist.at[(scan2, 'raw'), (scan1, 'raw')] = corr\n",
    "        dist.at[(scan1, 'raw'), (scan2, 'raw')] = corr\n",
    "        corr = np.corrcoef(abs(fft2[:18007]), abs(fft_ecg_nomri[:18007]))[0][1]\n",
    "        dist.at[(scan2, 'raw'), 'noMR'] = corr\n",
    "        corr = np.corrcoef(abs(fft2[:18007]), abs(fft_bpfilt1[:18007]))[0][1]\n",
    "        dist.at[(scan2, 'raw'), (scan1, 'BIOPAC')] = corr\n",
    "        corr = np.corrcoef(abs(fft2[:18007]), abs(fft_bpmbfilt1[:18007]))[0][1]\n",
    "        dist.at[(scan2, 'raw'), (scan1, 'MB-BIOPAC')] = corr\n",
    "        corr = np.corrcoef(abs(fft2[:18007]), abs(fft_bottfilt1[:18007]))[0][1]\n",
    "        dist.at[(scan2, 'raw'), (scan1, 'Bottenhorn')] = corr\n",
    "\n",
    "        notch = slices / tr\n",
    "        filtered = comb_band_stop(notch, ecg[scan2], Q, fs)\n",
    "        fft_bpfilt2 = signal.decimate(np.fft.fft(filtered),10)\n",
    "        corr = np.corrcoef(abs(fft_bpfilt2[:18007]), abs(fft_ecg_nomri[:18007]))[0][1]\n",
    "        dist.at[(scan2, 'BIOPAC'), 'noMR'] = corr\n",
    "        corr = np.corrcoef(abs(fft1[:18007]), abs(fft_bpfilt2[:18007]))[0][1]\n",
    "        dist.at[(scan2, 'BIOPAC'), (scan1, 'raw')] = corr\n",
    "        corr = np.corrcoef(abs(fft_bpfilt2[:18007]), abs(fft_bpfilt1[:18007]))[0][1]\n",
    "        dist.at[(scan2, 'BIOPAC'), (scan1, 'BIOPAC')] = corr\n",
    "        corr = np.corrcoef(abs(fft_bpmbfilt1[:18007]), abs(fft_bpfilt2[:18007]))[0][1]\n",
    "        dist.at[(scan2, 'BIOPAC'), (scan1, 'MB-BIOPAC')] = corr\n",
    "        corr = np.corrcoef(abs(fft_bottfilt1[:18007]), abs(fft_bpfilt2[:18007]))[0][1]\n",
    "        dist.at[(scan2, 'BIOPAC'), (scan1, 'Bottenhorn')] = corr\n",
    "        #corr = np.corrcoef(abs(fft1[:18007]), abs(fft_bpfilt2[:18007]))[0][1]\n",
    "        #dist.at[(scan2, 'BIOPAC'), (scan1, 'raw')] = corr\n",
    "\n",
    "        notch = slices / mb / tr\n",
    "        filtered = comb_band_stop(notch, ecg[scan2], Q, fs)\n",
    "        fft_bpmbfilt2 = signal.decimate(np.fft.fft(filtered), 10)\n",
    "        corr = np.corrcoef(abs(fft_bpmbfilt2[:18007]), abs(fft_ecg_nomri[:18007]))[0][1]\n",
    "        dist.at[(scan2, 'MB-BIOPAC'), 'noMR'] = corr\n",
    "        corr = np.corrcoef(abs(fft_bpmbfilt2[:18007]), abs(fft1[:18007]))[0][1]\n",
    "        dist.at[(scan2, 'MB-BIOPAC'), (scan1, 'raw')] = corr\n",
    "        corr = np.corrcoef(abs(fft_bpmbfilt2[:18007]), abs(fft_bpfilt1[:18007]))[0][1]\n",
    "        dist.at[(scan2, 'MB-BIOPAC'), (scan1, 'BIOPAC')] = corr\n",
    "        corr = np.corrcoef(abs(fft_bpmbfilt1[:18007]), abs(fft_bpmbfilt2[:18007]))[0][1]\n",
    "        dist.at[(scan2, 'MB-BIOPAC'), (scan1, 'MB-BIOPAC')] = corr\n",
    "        corr = np.corrcoef(abs(fft_bottfilt1[:18007]), abs(fft_bpmbfilt2[:18007]))[0][1]\n",
    "        dist.at[(scan2, 'MB-BIOPAC'), (scan1, 'Bottenhorn')] = corr\n",
    "        \n",
    "        filtered1 = ecg[scan2]\n",
    "        for notch in notches:\n",
    "            filtered1 = comb_band_stop(notches[notch], filtered1, Q, fs)\n",
    "\n",
    "        fft_bottfilt2 = signal.decimate(np.fft.fft(filtered1),10)\n",
    "        corr = np.corrcoef(abs(fft_bottfilt2[:18007]), abs(fft_ecg_nomri[:18007]))[0][1]\n",
    "        dist.at[(scan2, 'Bottenhorn'), 'noMR'] = corr\n",
    "        corr = np.corrcoef(abs(fft_bottfilt2[:18007]), abs(fft_bpfilt1[:18007]))[0][1]\n",
    "        dist.at[(scan2, 'Bottenhorn'), (scan1, 'BIOPAC')] = corr\n",
    "        corr = np.corrcoef(abs(fft_bottfilt2[:18007]), abs(fft1[:18007]))[0][1]\n",
    "        dist.at[(scan2, 'Bottenhorn'), (scan1, 'raw')] = corr\n",
    "        corr = np.corrcoef(abs(fft_bottfilt2[:18007]), abs(fft_bpmbfilt1[:18007]))[0][1]\n",
    "        dist.at[(scan2, 'Bottenhorn'), (scan1, 'MB-BIOPAC')] = corr\n",
    "        corr = np.corrcoef(abs(fft_bottfilt1[:18007]), abs(fft_bottfilt2[:18007]))[0][1]\n",
    "        dist.at[(scan2, 'Bottenhorn'), (scan1, 'Bottenhorn')] = corr\n",
    "\n",
    "        corr = np.corrcoef(abs(fft_bottfilt2[:18007]), abs(fft2[:18007]))[0][1]\n",
    "        dist.at[(scan2, 'raw'), (scan2, 'Bottenhorn')] = corr\n",
    "        corr = np.corrcoef(abs(fft_bottfilt2[:18007]), abs(fft1[:18007]))[0][1]\n",
    "        dist.at[(scan2, 'Bottenhorn'), (scan1, 'raw')] = corr\n",
    "        corr = np.corrcoef(abs(fft_bottfilt2[:18007]), abs(fft_bpfilt2[:18007]))[0][1]\n",
    "        dist.at[(scan2, 'BIOPAC'), (scan2, 'Bottenhorn')] = corr\n",
    "        corr = np.corrcoef(abs(fft_bottfilt2[:18007]), abs(fft_bpmbfilt2[:18007]))[0][1]\n",
    "        dist.at[(scan2, 'MB-BIOPAC'), (scan2, 'Bottenhorn')] = corr\n",
    "        \n",
    "        corr = np.corrcoef(abs(fft_bottfilt2[:18007]), abs(fft1[:18007]))[0][1]\n",
    "        dist.at[(scan1, 'raw'), (scan2, 'Bottenhorn')] = corr\n",
    "        corr = np.corrcoef(abs(fft_bottfilt2[:18007]), abs(fft_bpfilt1[:18007]))[0][1]\n",
    "        dist.at[(scan1, 'BIOPAC'), (scan2, 'Bottenhorn')] = corr\n",
    "        corr = np.corrcoef(abs(fft_bottfilt2[:18007]), abs(fft_bpmbfilt1[:18007]))[0][1]\n",
    "        dist.at[(scan1, 'MB-BIOPAC'), (scan2, 'Bottenhorn')] = corr"
   ]
  },
  {
   "cell_type": "code",
   "execution_count": null,
   "metadata": {},
   "outputs": [],
   "source": [
    "fig, ax = plt.subplots(figsize=(10,10))\n",
    "sns.heatmap(dist, square=True, vmin=0, cmap='viridis', )\n",
    "fig.savefig(os.path.join(out_dir, 'figures', 'fft_correlations-{0}.png'.format(basename)), dpi=300)"
   ]
  },
  {
   "cell_type": "code",
   "execution_count": null,
   "metadata": {},
   "outputs": [],
   "source": [
    "dist.sort_values('noMR', axis=0, ascending=False)"
   ]
  },
  {
   "cell_type": "code",
   "execution_count": null,
   "metadata": {},
   "outputs": [],
   "source": [
    "dist.to_csv(os.path.join(out_dir, 'fft_correlations-ECG-{0}.csv'.format(basename)))"
   ]
  },
  {
   "cell_type": "code",
   "execution_count": null,
   "metadata": {},
   "outputs": [],
   "source": []
  }
 ],
 "metadata": {
  "kernelspec": {
   "display_name": "Python 3",
   "language": "python",
   "name": "python3"
  },
  "language_info": {
   "codemirror_mode": {
    "name": "ipython",
    "version": 3
   },
   "file_extension": ".py",
   "mimetype": "text/x-python",
   "name": "python",
   "nbconvert_exporter": "python",
   "pygments_lexer": "ipython3",
   "version": "3.7.8"
  }
 },
 "nbformat": 4,
 "nbformat_minor": 4
}
