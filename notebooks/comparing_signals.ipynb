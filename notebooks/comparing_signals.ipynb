{
 "cells": [
  {
   "cell_type": "code",
   "execution_count": 1,
   "metadata": {},
   "outputs": [],
   "source": [
    "import os\n",
    "import numpy as np\n",
    "import pandas as pd\n",
    "import seaborn as sns\n",
    "import matplotlib.pyplot as plt\n",
    "import bioread as br\n",
    "import bids\n",
    "\n",
    "from glob import glob\n",
    "import scipy.signal as signal\n",
    "from sklearn.metrics import normalized_mutual_info_score, pairwise_distances, pairwise_distances_chunked\n",
    "#from tslearn.metrics import dtw"
   ]
  },
  {
   "cell_type": "code",
   "execution_count": 2,
   "metadata": {},
   "outputs": [
    {
     "data": {
      "image/png": "[encoded data removed]",
      "text/plain": [
       "<Figure size 216x72 with 1 Axes>"
      ]
     },
     "metadata": {
      "needs_background": "light"
     },
     "output_type": "display_data"
    }
   ],
   "source": [
    "sns.set_context('paper', font_scale=3)\n",
    "\n",
    "pal = sns.crayon_palette(['Gray', 'Razzmatazz', 'Tropical Rain Forest'])\n",
    "sns.set_palette(pal)\n",
    "sns.palplot(pal)"
   ]
  },
  {
   "cell_type": "code",
   "execution_count": 3,
   "metadata": {},
   "outputs": [],
   "source": [
    "pd.options.mode.chained_assignment = None\n",
    "\n",
    "def consecutive(data, stepsize=0.000501):\n",
    "    return np.split(data, np.where(np.diff(data) != stepsize)[0]+1)\n",
    "\n",
    "def butter_highpass(cutoff, fs, order=5):\n",
    "    nyq = 0.5 * fs\n",
    "    normal_cutoff = cutoff / nyq\n",
    "    b, a = signal.butter(order, normal_cutoff, btype='high', analog=False)\n",
    "    return b, a\n",
    "\n",
    "def butter_highpass_filter(data, cutoff, fs, order=5):\n",
    "    b, a = butter_highpass(cutoff, fs, order=order)\n",
    "    y = signal.filtfilt(b, a, data)\n",
    "    return y\n",
    "\n",
    "def comb_band_stop(f0, data, Q, fs):\n",
    "    #nyquist = fs / 2\n",
    "    #f0 = notch\n",
    "    w0 = f0 / nyquist\n",
    "    if fs % w0 != 0:\n",
    "        filtered = data.copy()\n",
    "        for i in np.arange(1, (nyquist / f0)):\n",
    "            #print(notches[notch] * i)\n",
    "            f = f0 * i\n",
    "            b,a = signal.iirnotch(w0, Q)\n",
    "            filtered = signal.filtfilt(b, a, filtered)\n",
    "    b,a = signal.iircomb(w0, Q, ftype='notch', fs=fs)\n",
    "    filtered = signal.filtfilt(b, a, data)\n",
    "    return filtered\n"
   ]
  },
  {
   "cell_type": "code",
   "execution_count": 4,
   "metadata": {},
   "outputs": [
    {
     "data": {
      "text/plain": [
       "'2.1.3'"
      ]
     },
     "execution_count": 4,
     "metadata": {},
     "output_type": "execute_result"
    }
   ],
   "source": [
    "br.__version__"
   ]
  },
  {
   "cell_type": "markdown",
   "metadata": {},
   "source": [
    "# Electrocardiogram data\n",
    "## Single-band, single-echo EPI sequence"
   ]
  },
  {
   "cell_type": "code",
   "execution_count": 5,
   "metadata": {},
   "outputs": [
    {
     "data": {
      "text/plain": [
       "BIDS Layout: ...herine.b/Dropbox/Data/ds001242 | Subjects: 52 | Sessions: 0 | Runs: 256"
      ]
     },
     "execution_count": 5,
     "metadata": {},
     "output_type": "execute_result"
    }
   ],
   "source": [
    "bids.BIDSLayout('/Users/katherine.b/Dropbox/Data/ds001242/', derivatives=True)"
   ]
  },
  {
   "cell_type": "code",
   "execution_count": 6,
   "metadata": {},
   "outputs": [],
   "source": [
    "data_fname = '/Users/katherine.b/Dropbox/Projects/physio/mbme-physio-denoising/example_data/4232_2_Musser_K23_redux.acq'\n",
    "data = br.read_file(data_fname)\n",
    "basename = data_fname.split('/')[-1][:-4]\n",
    "out_dir = '/Users/katherine.b/Dropbox/Projects/physio/physio-note'\n",
    "\n",
    "if not os.path.exists('{0}/data'.format(out_dir)):\n",
    "    os.mkdir('{0}/data'.format(out_dir))\n",
    "    os.mkdir('{0}/data/clean'.format(out_dir))\n",
    "    os.mkdir('{0}/data/raw'.format(out_dir))\n",
    "    os.mkdir('{0}/figures'.format(out_dir))"
   ]
  },
  {
   "cell_type": "code",
   "execution_count": 7,
   "metadata": {},
   "outputs": [],
   "source": [
    "for channel in data.named_channels:\n",
    "    #print(channel)\n",
    "    if 'ECG' in channel:\n",
    "        ecg_channel = channel\n",
    "    elif 'Digital' in channel:\n",
    "        trigger = channel\n",
    "    elif 'EDA' in channel:\n",
    "        eda_channel = channel\n",
    "    elif 'Respiration' in channel:\n",
    "        resp_channel = channel"
   ]
  },
  {
   "cell_type": "code",
   "execution_count": 8,
   "metadata": {},
   "outputs": [],
   "source": [
    "timeseries = pd.DataFrame(columns=['ECG', 'EDA', 'Trigger', 'Resp', 'seconds'])\n",
    "\n",
    "timeseries['Trigger'] = data.named_channels[trigger].data\n",
    "timeseries['ECG'] = data.named_channels[ecg_channel].data\n",
    "timeseries['EDA'] = data.named_channels[eda_channel].data\n",
    "timeseries['Resp'] = data.named_channels[resp_channel].data\n",
    "timeseries['seconds'] = data.time_index\n",
    "timeseries.to_csv('{0}/data/raw/{1}-raw.csv'.format(out_dir, basename))\n",
    "\n",
    "#separating timeseries collected during BOLD scan\n",
    "#(where trigger channel = 5V)\n",
    "fives = timeseries[timeseries['Trigger'] == 5].index.values\n",
    "scan_idx = consecutive(fives, stepsize=1)"
   ]
  },
  {
   "cell_type": "code",
   "execution_count": 9,
   "metadata": {},
   "outputs": [],
   "source": [
    "#from Erica Musser's K23 EIRT sequence\n",
    "slices = 60\n",
    "tr = 0.8\n",
    "mb = 6\n",
    "cutoff = 120\n",
    "\n",
    "fs = data.samples_per_second\n",
    "\n",
    "nyquist = fs/2\n",
    "Q = 10"
   ]
  },
  {
   "cell_type": "markdown",
   "metadata": {},
   "source": [
    "### Fourier transform of ECG recording in absence of MR sequence"
   ]
  },
  {
   "cell_type": "code",
   "execution_count": 10,
   "metadata": {},
   "outputs": [],
   "source": [
    "fft_ecg = np.fft.fft(timeseries[timeseries['Trigger'] != 5]['ECG'][:1000000])\n",
    "freq = np.fft.fftfreq(timeseries[timeseries['Trigger'] != 5]['ECG'][:1000000].shape[-1], d=0.0005)\n",
    "fft_ecg_db = 10 * np.log10(abs(fft_ecg))\n",
    "limit = np.where(freq >= 60)[0][0]"
   ]
  },
  {
   "cell_type": "code",
   "execution_count": 11,
   "metadata": {},
   "outputs": [
    {
     "name": "stderr",
     "output_type": "stream",
     "text": [
      "/Users/katherine.b/Library/Python/3.8/lib/python/site-packages/seaborn/_decorators.py:36: FutureWarning: Pass the following variables as keyword args: x, y. From version 0.12, the only valid positional argument will be `data`, and passing other arguments without an explicit keyword will result in an error or misinterpretation.\n",
      "  warnings.warn(\n",
      "/Users/katherine.b/Library/Python/3.8/lib/python/site-packages/seaborn/_decorators.py:36: FutureWarning: Pass the following variables as keyword args: x, y. From version 0.12, the only valid positional argument will be `data`, and passing other arguments without an explicit keyword will result in an error or misinterpretation.\n",
      "  warnings.warn(\n"
     ]
    },
    {
     "data": {
      "image/png": "[encoded data removed]",
      "text/plain": [
       "<Figure size 1440x360 with 2 Axes>"
      ]
     },
     "metadata": {
      "needs_background": "light"
     },
     "output_type": "display_data"
    }
   ],
   "source": [
    "gridkw = dict(width_ratios=[2,1])\n",
    "fig, (ax1, ax2) = plt.subplots(1, 2, gridspec_kw=gridkw, figsize=(20,5))\n",
    "plt.tight_layout(pad=2)\n",
    "\n",
    "sns.lineplot(signal.decimate(timeseries['seconds'][:200000],10)[1000:7000], \n",
    "             signal.decimate(timeseries['ECG'][:200000], 10)[1000:7000], \n",
    "             linewidth=1, ax=ax1) #array, top subplot\n",
    "sns.lineplot(freq[:limit], \n",
    "             fft_ecg.real[:limit], \n",
    "             ax=ax2, linewidth=1)#bottom subplot\n",
    "ax1.set_xlabel('seconds')\n",
    "ax1.set_ylabel('mV')\n",
    "\n",
    "ax2.set_xlabel('Hz')\n",
    "ax2.ticklabel_format(axis='y', style='sci', scilimits=(-1,1))\n",
    "ax2.set_ylabel('Power')\n",
    "fig.savefig('{0}/figures/{1}-ecg_raw-noepi.png'.format(out_dir, basename), dpi=300)"
   ]
  },
  {
   "cell_type": "code",
   "execution_count": 12,
   "metadata": {},
   "outputs": [
    {
     "name": "stdout",
     "output_type": "stream",
     "text": [
      "{0: 5.5885, 1: 5.595258333333334, 2: 5.592233333333334, 3: 5.563108333333333, 4: 5.001758333333333, 5: 5.001774999999999}\n"
     ]
    }
   ],
   "source": [
    "scans = {}\n",
    "for i in range(len(scan_idx)):\n",
    "    duration = len(scan_idx[i])/2000./60\n",
    "    #print(i, np.round(duration, 1), 'minutes')\n",
    "    if duration > 2.:\n",
    "        scans[i] = duration\n",
    "print(scans)"
   ]
  },
  {
   "cell_type": "code",
   "execution_count": 13,
   "metadata": {},
   "outputs": [],
   "source": [
    "scan1 = timeseries[timeseries.index.isin(scan_idx[1])]\n",
    "time = scan1['seconds'].values"
   ]
  },
  {
   "cell_type": "code",
   "execution_count": 14,
   "metadata": {},
   "outputs": [],
   "source": [
    "f, Cxy = signal.coherence(scan1['ECG'], \n",
    "                          timeseries[timeseries['Trigger'] != 5]['ECG'], \n",
    "                          fs=fs, nperseg=10000)"
   ]
  },
  {
   "cell_type": "code",
   "execution_count": 15,
   "metadata": {},
   "outputs": [
    {
     "name": "stderr",
     "output_type": "stream",
     "text": [
      "/Users/katherine.b/Library/Python/3.8/lib/python/site-packages/seaborn/_decorators.py:36: FutureWarning: Pass the following variables as keyword args: x, y. From version 0.12, the only valid positional argument will be `data`, and passing other arguments without an explicit keyword will result in an error or misinterpretation.\n",
      "  warnings.warn(\n"
     ]
    },
    {
     "data": {
      "image/png": "[encoded data removed]",
      "text/plain": [
       "<Figure size 432x432 with 1 Axes>"
      ]
     },
     "metadata": {
      "needs_background": "light"
     },
     "output_type": "display_data"
    }
   ],
   "source": [
    "fig,ax = plt.subplots(figsize=(6,6))\n",
    "plt.tight_layout()\n",
    "sns.lineplot(f[f <= 60], Cxy[f <= 60], linewidth=1)\n",
    "ax.set_xlabel('Hz')\n",
    "ax.set_ylabel('MSC')\n",
    "fig.savefig('{0}/figures/{1}-scan{2}-ecgNoMRIXecgRaw.png'.format(out_dir, basename, i), \n",
    "            dpi=300, \n",
    "            bbox_inches='tight')"
   ]
  },
  {
   "cell_type": "code",
   "execution_count": 16,
   "metadata": {},
   "outputs": [],
   "source": [
    "fft_ecg = np.fft.fft(scan1['ECG'].values)\n",
    "freq = np.fft.fftfreq(scan1['ECG'].values.shape[-1], d=0.0005)\n",
    "fft_ecg_db = 10 * np.log10(abs(fft_ecg))\n",
    "limit = np.where(freq >= 60)[0][0]\n",
    "\n",
    "peaks, _ = signal.find_peaks(fft_ecg.real[:30000], distance=300)"
   ]
  },
  {
   "cell_type": "code",
   "execution_count": 17,
   "metadata": {},
   "outputs": [],
   "source": [
    "slice_peaks = []\n",
    "slice_freq = slices / mb / tr\n",
    "for peak in peaks:\n",
    "    remainder = np.round(freq[peak],2) % np.round(slice_freq, 2)\n",
    "    #print(freq[peak], slice_freq, remainder)\n",
    "    if np.isclose(remainder, 0, atol=1e-2) or np.isclose(remainder, slice_freq, atol=1e-1):\n",
    "        slice_peaks.append(peak)"
   ]
  },
  {
   "cell_type": "code",
   "execution_count": 18,
   "metadata": {},
   "outputs": [
    {
     "name": "stderr",
     "output_type": "stream",
     "text": [
      "/Users/katherine.b/Library/Python/3.8/lib/python/site-packages/seaborn/_decorators.py:36: FutureWarning: Pass the following variables as keyword args: x, y. From version 0.12, the only valid positional argument will be `data`, and passing other arguments without an explicit keyword will result in an error or misinterpretation.\n",
      "  warnings.warn(\n",
      "/Users/katherine.b/Library/Python/3.8/lib/python/site-packages/seaborn/_decorators.py:36: FutureWarning: Pass the following variables as keyword args: x, y. From version 0.12, the only valid positional argument will be `data`, and passing other arguments without an explicit keyword will result in an error or misinterpretation.\n",
      "  warnings.warn(\n"
     ]
    },
    {
     "data": {
      "image/png": "[encoded data removed]",
      "text/plain": [
       "<Figure size 1440x360 with 2 Axes>"
      ]
     },
     "metadata": {
      "needs_background": "light"
     },
     "output_type": "display_data"
    }
   ],
   "source": [
    "gridkw = dict(width_ratios=[2,1])\n",
    "fig, (ax1, ax2) = plt.subplots(1, 2, gridspec_kw=gridkw, figsize=(20,5))\n",
    "plt.tight_layout(pad=1)\n",
    "\n",
    "sns.lineplot(signal.decimate(scan1['seconds'], 10)[:6000], \n",
    "            signal.decimate(scan1['ECG'], 10)[:6000], \n",
    "            linewidth=1, ax=ax1) #array, top subplot\n",
    "#sns.lineplot(freq[:100000], fft_ecg_db[:100000], linewidth=1, ax=ax2)\n",
    "sns.lineplot(freq[:limit], \n",
    "            fft_ecg.real[:limit], \n",
    "            ax=ax2, linewidth=1) #bottom subplot\n",
    "ax2.plot(freq[peaks][:50], fft_ecg.real[peaks][:50], \"^\", ms=5)\n",
    "ax2.plot(freq[slice_peaks][:4], fft_ecg.real[slice_peaks][:4], \"o\", ms=7)\n",
    "ax1.set_xlabel('seconds')\n",
    "ax1.set_ylabel('mV')\n",
    "ax2.set_xlabel('Hz')\n",
    "ax2.ticklabel_format(axis='y', style='sci', scilimits=(-1,1))\n",
    "ax2.set_ylabel('Power')\n",
    "\n",
    "fig.savefig('{0}/figures/{1}_scan-{2}_ecg-raw.png'.format(out_dir, basename, i), dpi=300)"
   ]
  },
  {
   "cell_type": "code",
   "execution_count": 19,
   "metadata": {},
   "outputs": [
    {
     "ename": "ValueError",
     "evalue": "fs must be divisible by w0.",
     "output_type": "error",
     "traceback": [
      "\u001b[0;31m---------------------------------------------------------------------------\u001b[0m",
      "\u001b[0;31mValueError\u001b[0m                                Traceback (most recent call last)",
      "\u001b[0;32m/var/folders/t5/4bz0680d45n5_5m30ny85m540000gp/T/ipykernel_6736/2151227408.py\u001b[0m in \u001b[0;36m<module>\u001b[0;34m\u001b[0m\n\u001b[1;32m      1\u001b[0m \u001b[0;31m#hp_ecg = butter_highpass_filter(scan1['ECG'], 1, fs, order=5)\u001b[0m\u001b[0;34m\u001b[0m\u001b[0;34m\u001b[0m\u001b[0;34m\u001b[0m\u001b[0m\n\u001b[1;32m      2\u001b[0m \u001b[0mnotch\u001b[0m \u001b[0;34m=\u001b[0m \u001b[0mslices\u001b[0m \u001b[0;34m/\u001b[0m \u001b[0mtr\u001b[0m\u001b[0;34m\u001b[0m\u001b[0;34m\u001b[0m\u001b[0m\n\u001b[0;32m----> 3\u001b[0;31m \u001b[0mfiltered\u001b[0m \u001b[0;34m=\u001b[0m \u001b[0mcomb_band_stop\u001b[0m\u001b[0;34m(\u001b[0m\u001b[0mnotch\u001b[0m\u001b[0;34m,\u001b[0m \u001b[0mscan1\u001b[0m\u001b[0;34m[\u001b[0m\u001b[0;34m'ECG'\u001b[0m\u001b[0;34m]\u001b[0m\u001b[0;34m,\u001b[0m \u001b[0mQ\u001b[0m\u001b[0;34m,\u001b[0m \u001b[0;36m2000.\u001b[0m\u001b[0;34m)\u001b[0m\u001b[0;34m\u001b[0m\u001b[0;34m\u001b[0m\u001b[0m\n\u001b[0m\u001b[1;32m      4\u001b[0m \u001b[0mf\u001b[0m\u001b[0;34m,\u001b[0m \u001b[0mCxy\u001b[0m \u001b[0;34m=\u001b[0m \u001b[0msignal\u001b[0m\u001b[0;34m.\u001b[0m\u001b[0mcoherence\u001b[0m\u001b[0;34m(\u001b[0m\u001b[0mscan1\u001b[0m\u001b[0;34m[\u001b[0m\u001b[0;34m'ECG'\u001b[0m\u001b[0;34m]\u001b[0m\u001b[0;34m,\u001b[0m \u001b[0mfiltered\u001b[0m\u001b[0;34m,\u001b[0m \u001b[0mfs\u001b[0m\u001b[0;34m=\u001b[0m\u001b[0mdata\u001b[0m\u001b[0;34m.\u001b[0m\u001b[0msamples_per_second\u001b[0m\u001b[0;34m,\u001b[0m \u001b[0mnperseg\u001b[0m\u001b[0;34m=\u001b[0m\u001b[0;36m10000\u001b[0m\u001b[0;34m)\u001b[0m\u001b[0;34m\u001b[0m\u001b[0;34m\u001b[0m\u001b[0m\n\u001b[1;32m      5\u001b[0m \u001b[0;34m\u001b[0m\u001b[0m\n",
      "\u001b[0;32m/var/folders/t5/4bz0680d45n5_5m30ny85m540000gp/T/ipykernel_6736/3135949203.py\u001b[0m in \u001b[0;36mcomb_band_stop\u001b[0;34m(f0, data, Q, fs)\u001b[0m\n\u001b[1;32m     26\u001b[0m             \u001b[0mb\u001b[0m\u001b[0;34m,\u001b[0m\u001b[0ma\u001b[0m \u001b[0;34m=\u001b[0m \u001b[0msignal\u001b[0m\u001b[0;34m.\u001b[0m\u001b[0miirnotch\u001b[0m\u001b[0;34m(\u001b[0m\u001b[0mw0\u001b[0m\u001b[0;34m,\u001b[0m \u001b[0mQ\u001b[0m\u001b[0;34m)\u001b[0m\u001b[0;34m\u001b[0m\u001b[0;34m\u001b[0m\u001b[0m\n\u001b[1;32m     27\u001b[0m             \u001b[0mfiltered\u001b[0m \u001b[0;34m=\u001b[0m \u001b[0msignal\u001b[0m\u001b[0;34m.\u001b[0m\u001b[0mfiltfilt\u001b[0m\u001b[0;34m(\u001b[0m\u001b[0mb\u001b[0m\u001b[0;34m,\u001b[0m \u001b[0ma\u001b[0m\u001b[0;34m,\u001b[0m \u001b[0mfiltered\u001b[0m\u001b[0;34m)\u001b[0m\u001b[0;34m\u001b[0m\u001b[0;34m\u001b[0m\u001b[0m\n\u001b[0;32m---> 28\u001b[0;31m     \u001b[0mb\u001b[0m\u001b[0;34m,\u001b[0m\u001b[0ma\u001b[0m \u001b[0;34m=\u001b[0m \u001b[0msignal\u001b[0m\u001b[0;34m.\u001b[0m\u001b[0miircomb\u001b[0m\u001b[0;34m(\u001b[0m\u001b[0mw0\u001b[0m\u001b[0;34m,\u001b[0m \u001b[0mQ\u001b[0m\u001b[0;34m,\u001b[0m \u001b[0mftype\u001b[0m\u001b[0;34m=\u001b[0m\u001b[0;34m'notch'\u001b[0m\u001b[0;34m,\u001b[0m \u001b[0mfs\u001b[0m\u001b[0;34m=\u001b[0m\u001b[0mfs\u001b[0m\u001b[0;34m)\u001b[0m\u001b[0;34m\u001b[0m\u001b[0;34m\u001b[0m\u001b[0m\n\u001b[0m\u001b[1;32m     29\u001b[0m     \u001b[0mfiltered\u001b[0m \u001b[0;34m=\u001b[0m \u001b[0msignal\u001b[0m\u001b[0;34m.\u001b[0m\u001b[0mfiltfilt\u001b[0m\u001b[0;34m(\u001b[0m\u001b[0mb\u001b[0m\u001b[0;34m,\u001b[0m \u001b[0ma\u001b[0m\u001b[0;34m,\u001b[0m \u001b[0mdata\u001b[0m\u001b[0;34m)\u001b[0m\u001b[0;34m\u001b[0m\u001b[0;34m\u001b[0m\u001b[0m\n\u001b[1;32m     30\u001b[0m     \u001b[0;32mreturn\u001b[0m \u001b[0mfiltered\u001b[0m\u001b[0;34m\u001b[0m\u001b[0;34m\u001b[0m\u001b[0m\n",
      "\u001b[0;32m~/Library/Python/3.8/lib/python/site-packages/scipy/signal/_filter_design.py\u001b[0m in \u001b[0;36miircomb\u001b[0;34m(w0, Q, ftype, fs, pass_zero)\u001b[0m\n\u001b[1;32m   5261\u001b[0m     \u001b[0;31m# Check for cutoff frequency divisibility\u001b[0m\u001b[0;34m\u001b[0m\u001b[0;34m\u001b[0m\u001b[0;34m\u001b[0m\u001b[0m\n\u001b[1;32m   5262\u001b[0m     \u001b[0;32mif\u001b[0m \u001b[0mabs\u001b[0m\u001b[0;34m(\u001b[0m\u001b[0mw0\u001b[0m \u001b[0;34m-\u001b[0m \u001b[0mfs\u001b[0m\u001b[0;34m/\u001b[0m\u001b[0mN\u001b[0m\u001b[0;34m)\u001b[0m\u001b[0;34m/\u001b[0m\u001b[0mfs\u001b[0m \u001b[0;34m>\u001b[0m \u001b[0;36m1e-14\u001b[0m\u001b[0;34m:\u001b[0m\u001b[0;34m\u001b[0m\u001b[0;34m\u001b[0m\u001b[0m\n\u001b[0;32m-> 5263\u001b[0;31m         \u001b[0;32mraise\u001b[0m \u001b[0mValueError\u001b[0m\u001b[0;34m(\u001b[0m\u001b[0;34m'fs must be divisible by w0.'\u001b[0m\u001b[0;34m)\u001b[0m\u001b[0;34m\u001b[0m\u001b[0;34m\u001b[0m\u001b[0m\n\u001b[0m\u001b[1;32m   5264\u001b[0m \u001b[0;34m\u001b[0m\u001b[0m\n\u001b[1;32m   5265\u001b[0m     \u001b[0;31m# Compute frequency in radians and filter bandwidth\u001b[0m\u001b[0;34m\u001b[0m\u001b[0;34m\u001b[0m\u001b[0;34m\u001b[0m\u001b[0m\n",
      "\u001b[0;31mValueError\u001b[0m: fs must be divisible by w0."
     ]
    }
   ],
   "source": [
    "#hp_ecg = butter_highpass_filter(scan1['ECG'], 1, fs, order=5)\n",
    "notch = slices / tr\n",
    "filtered = comb_band_stop(notch, scan1['ECG'], Q, 2000.)\n",
    "f, Cxy = signal.coherence(scan1['ECG'], filtered, fs=data.samples_per_second, nperseg=10000)\n",
    "\n",
    "fft_filt = np.fft.fft(filtered)\n",
    "freq = np.fft.fftfreq(filtered.shape[-1], d=0.0005)\n",
    "fft_ecg_db = 10 * np.log10(abs(fft_filt))\n",
    "limit = np.where(freq >= 60)[0][0]"
   ]
  },
  {
   "cell_type": "code",
   "execution_count": null,
   "metadata": {},
   "outputs": [],
   "source": [
    "fs / (notch / nyquist)"
   ]
  },
  {
   "cell_type": "code",
   "execution_count": null,
   "metadata": {},
   "outputs": [],
   "source": [
    "fig,ax = plt.subplots(figsize=(6,6))\n",
    "plt.tight_layout()\n",
    "sns.lineplot(f[f <= 60], Cxy[f <= 60], linewidth=1)\n",
    "ax.set_xlabel('Hz')\n",
    "ax.set_ylabel('MSC')\n",
    "fig.savefig('{0}/figures/{1}-scan{2}-ecgRawXecgBioPacClean.png'.format(out_dir, basename, i), \n",
    "            dpi=300,\n",
    "            bbox_inches='tight')"
   ]
  },
  {
   "cell_type": "code",
   "execution_count": null,
   "metadata": {},
   "outputs": [],
   "source": [
    "f, Cxy = signal.coherence(timeseries[timeseries['Trigger'] != 5]['ECG'], \n",
    "                          filtered, \n",
    "                          fs=data.samples_per_second, \n",
    "                          nperseg=10000)\n",
    "fig,ax = plt.subplots(figsize=(6,6))\n",
    "plt.tight_layout()\n",
    "sns.lineplot(f[f <= 60], Cxy[f <= 60], linewidth=1)\n",
    "ax.set_xlabel('Hz')\n",
    "ax.set_ylabel('MSC')\n",
    "fig.savefig('{0}/figures/{1}-scan{2}-ecgNoMRIXecgBioPacClean.png'.format(out_dir, basename, i), dpi=300, \n",
    "            bbox_inches='tight')"
   ]
  },
  {
   "cell_type": "code",
   "execution_count": null,
   "metadata": {},
   "outputs": [],
   "source": [
    "gridkw = dict(width_ratios=[2,1])\n",
    "fig,(ax1, ax2) = plt.subplots(1, 2, gridspec_kw=gridkw, figsize=(20,5), sharex='col')\n",
    "plt.tight_layout(pad=1)\n",
    "\n",
    "sns.lineplot(signal.decimate(scan1['seconds'], 10)[:6000], \n",
    "            signal.decimate(filtered, 10)[:6000], \n",
    "            linewidth=1, ax=ax1) #array, top subplot\n",
    "sns.lineplot(freq[:limit], fft_filt.real[:limit], linewidth=1, ax=ax2)\n",
    "ax1.set_xlabel('seconds')\n",
    "ax1.set_ylabel('mV')\n",
    "ax2.set_xlabel('Hz')\n",
    "ax2.ticklabel_format(axis='y', style='sci', scilimits=(-1,1))\n",
    "ax2.set_ylabel('Power')\n",
    "\n",
    "fig.savefig('{0}/figures/{1}-scan{2}-ecg_BioPacClean.png'.format(out_dir, basename, i), dpi=300)\n",
    "#plt.close()"
   ]
  },
  {
   "cell_type": "code",
   "execution_count": null,
   "metadata": {},
   "outputs": [],
   "source": [
    "#hp_ecg = butter_highpass_filter(scan1['ECG'], 1, fs, order=5)\n",
    "notch = slices / mb / tr\n",
    "filtered1 = comb_band_stop(notch, scan1['ECG'], Q, fs)\n",
    "f, Cxy = signal.coherence(scan1['ECG'], filtered1, fs=data.samples_per_second, nperseg=10000)\n",
    "\n",
    "fft_filt = np.fft.fft(filtered1)\n",
    "freq = np.fft.fftfreq(filtered1.shape[-1], d=0.0005)\n",
    "fft_ecg_db = 10 * np.log10(abs(fft_filt))\n",
    "limit = np.where(freq >= 60)[0][0]"
   ]
  },
  {
   "cell_type": "code",
   "execution_count": null,
   "metadata": {},
   "outputs": [],
   "source": [
    "fig,ax = plt.subplots(figsize=(6,6))\n",
    "plt.tight_layout()\n",
    "sns.lineplot(f[f <= 60], Cxy[f <= 60], linewidth=1)\n",
    "ax.set_xlabel('Hz')\n",
    "ax.set_ylabel('MSC')\n",
    "fig.savefig('{0}/figures/{1}-scan{2}-ecgRawXecgBottenClean.png'.format(out_dir, basename, i), dpi=300, \n",
    "            bbox_inches='tight')"
   ]
  },
  {
   "cell_type": "code",
   "execution_count": null,
   "metadata": {},
   "outputs": [],
   "source": [
    "f, Cxy = signal.coherence(timeseries[timeseries['Trigger'] != 5]['ECG'], \n",
    "                          filtered1, \n",
    "                          fs=data.samples_per_second, \n",
    "                          nperseg=10000)\n",
    "fig,ax = plt.subplots(figsize=(6,6))\n",
    "plt.tight_layout()\n",
    "sns.lineplot(f[f <= 60], Cxy[f <= 60], linewidth=1)\n",
    "ax.set_xlabel('Hz')\n",
    "ax.set_ylabel('MSC')\n",
    "fig.savefig('{0}/figures/{1}-scan{2}-ecgNoMRIXecgBottenClean.png'.format(out_dir, basename, i), \n",
    "            dpi=300, \n",
    "            bbox_inches='tight')"
   ]
  },
  {
   "cell_type": "code",
   "execution_count": null,
   "metadata": {},
   "outputs": [],
   "source": [
    "f, Cxy = signal.coherence(filtered, filtered1, fs=data.samples_per_second, nperseg=10000)\n",
    "fig,ax = plt.subplots(figsize=(6,6))\n",
    "plt.tight_layout()\n",
    "sns.lineplot(f[f <= 60], Cxy[f <= 60], linewidth=1)\n",
    "ax.set_xlabel('Hz')\n",
    "ax.set_ylabel('MSC')\n",
    "fig.savefig('{0}/figures/{1}-scan{2}-ecgBioPacCleanXecgBottenClean.png'.format(out_dir, basename, i), \n",
    "            dpi=300, \n",
    "            bbox_inches='tight')"
   ]
  },
  {
   "cell_type": "code",
   "execution_count": null,
   "metadata": {},
   "outputs": [],
   "source": [
    "gridkw = dict(width_ratios=[2,1])\n",
    "fig,(ax1, ax2) = plt.subplots(1, 2, gridspec_kw=gridkw, figsize=(20,5), sharex='col')\n",
    "plt.tight_layout(pad=1)\n",
    "\n",
    "sns.lineplot(signal.decimate(scan1['seconds'], 10)[:6000], \n",
    "            signal.decimate(filtered1, 10)[:6000], \n",
    "            linewidth=1, ax=ax1) #array, top subplot\n",
    "sns.lineplot(freq[:limit], fft_filt.real[:limit], linewidth=1, ax=ax2)\n",
    "ax1.set_xlabel('seconds')\n",
    "ax1.set_ylabel('mV')\n",
    "ax2.set_xlabel('Hz')\n",
    "ax2.ticklabel_format(axis='y', style='sci', scilimits=(-1,1))\n",
    "ax2.set_ylabel('Power')\n",
    "\n",
    "fig.savefig('{0}/figures/{1}-scan{2}-ecg_BottenClean.png'.format(out_dir, basename, i), dpi=300)\n",
    "#plt.close()"
   ]
  },
  {
   "cell_type": "markdown",
   "metadata": {},
   "source": [
    "## Multiband, multi-echo EPI sequence"
   ]
  },
  {
   "cell_type": "code",
   "execution_count": null,
   "metadata": {},
   "outputs": [],
   "source": [
    "data_fname = '/Users/katherine.b/Dropbox/Projects/physio/mbme-physio-denoising/example_data/sub-Blossom_ses-01.acq'\n",
    "data = br.read_file(data_fname)\n",
    "basename = data_fname.split('/')[-1][:-4]\n",
    "out_dir = '/Users/katherine.b/Dropbox/Projects/physio/physio-note'\n",
    "\n",
    "if not os.path.exists('{0}/data'.format(out_dir)):\n",
    "    os.mkdir('{0}/data'.format(out_dir))\n",
    "    os.mkdir('{0}/data/clean'.format(out_dir))\n",
    "    os.mkdir('{0}/data/raw'.format(out_dir))\n",
    "    os.mkdir('{0}/figures'.format(out_dir))"
   ]
  },
  {
   "cell_type": "code",
   "execution_count": null,
   "metadata": {},
   "outputs": [],
   "source": [
    "for channel in data.named_channels:\n",
    "    #print(channel)\n",
    "    if 'ECG' in channel:\n",
    "        ecg_channel = channel\n",
    "    elif 'Trigger' in channel:\n",
    "        trigger = channel\n",
    "    elif 'EDA' in channel:\n",
    "        eda_channel = channel\n",
    "    elif 'Respiration' in channel:\n",
    "        resp_channel = channel\n"
   ]
  },
  {
   "cell_type": "code",
   "execution_count": null,
   "metadata": {},
   "outputs": [],
   "source": [
    "timeseries = pd.DataFrame(columns=['ECG', 'EDA', 'Trigger', 'Resp', 'seconds'])\n",
    "\n",
    "timeseries['Trigger'] = data.named_channels[trigger].data\n",
    "timeseries['ECG'] = data.named_channels[ecg_channel].data\n",
    "timeseries['EDA'] = data.named_channels[eda_channel].data\n",
    "timeseries['Resp'] = data.named_channels[resp_channel].data\n",
    "timeseries['seconds'] = data.time_index\n",
    "timeseries.to_csv('{0}/data/raw/{1}-raw.csv'.format(out_dir, basename))\n",
    "\n",
    "#separating timeseries collected during BOLD scan\n",
    "#(where trigger channel = 5V)\n",
    "fives = timeseries[timeseries['Trigger'] == 5].index.values\n",
    "scan_idx = consecutive(fives, stepsize=1)"
   ]
  },
  {
   "cell_type": "code",
   "execution_count": null,
   "metadata": {},
   "outputs": [],
   "source": [
    "#arranging noisy frequencies to be filtered out\n",
    "slices = 48\n",
    "tr = 1.5\n",
    "mb = 3\n",
    "cutoff = 120\n",
    "\n",
    "fs = data.samples_per_second\n",
    "\n",
    "#I don't know if this is right, been playing around with the value of Q\n",
    "Q = 100\n",
    "\n",
    "nyquist = fs/2"
   ]
  },
  {
   "cell_type": "code",
   "execution_count": null,
   "metadata": {},
   "outputs": [],
   "source": [
    "fft_ecg = np.fft.fft(timeseries[timeseries['Trigger'] != 5]['ECG'][:1000000])\n",
    "freq = np.fft.fftfreq(timeseries[timeseries['Trigger'] != 5]['ECG'][:1000000].shape[-1], d=0.0005)\n",
    "fft_ecg_db = 10 * np.log10(abs(fft_ecg))\n",
    "limit = np.where(freq >= 60)[0][0]"
   ]
  },
  {
   "cell_type": "code",
   "execution_count": null,
   "metadata": {},
   "outputs": [],
   "source": [
    "gridkw = dict(width_ratios=[2,1])\n",
    "fig, (ax1, ax2) = plt.subplots(1, 2, gridspec_kw=gridkw, figsize=(20,5))\n",
    "plt.tight_layout(pad=1)\n",
    "\n",
    "sns.lineplot(signal.decimate(timeseries['seconds'][:200000],10)[1000:7000], \n",
    "             signal.decimate(timeseries['ECG'][:200000], 10)[1000:7000], \n",
    "             linewidth=1, ax=ax1) #array, top subplot\n",
    "sns.lineplot(freq[:limit], \n",
    "             fft_ecg.real[:limit], \n",
    "             ax=ax2, linewidth=1)#bottom subplot\n",
    "ax1.set_xlabel('seconds')\n",
    "ax1.set_ylabel('mV')\n",
    "\n",
    "ax2.set_xlabel('Hz')\n",
    "ax2.ticklabel_format(axis='y', style='sci', scilimits=(-1,1))\n",
    "ax2.set_ylabel('Power')\n",
    "fig.savefig('{0}/figures/{1}-ecg_raw-noepi.png'.format(out_dir, basename), dpi=300)"
   ]
  },
  {
   "cell_type": "code",
   "execution_count": null,
   "metadata": {},
   "outputs": [],
   "source": [
    "scans = {}\n",
    "for i in range(len(scan_idx)):\n",
    "    duration = len(scan_idx[i])/2000./60\n",
    "    #print(np.round(duration, 1), 'minutes')\n",
    "    if duration > 2.:\n",
    "        scans[i] = duration\n",
    "print(scans)"
   ]
  },
  {
   "cell_type": "code",
   "execution_count": null,
   "metadata": {},
   "outputs": [],
   "source": [
    "scan1 = timeseries[timeseries.index.isin(scan_idx[0])]\n",
    "time = scan1['seconds'].values"
   ]
  },
  {
   "cell_type": "code",
   "execution_count": null,
   "metadata": {},
   "outputs": [],
   "source": [
    "f, Cxy = signal.coherence(scan1['ECG'], \n",
    "                          timeseries[timeseries['Trigger'] != 5]['ECG'], \n",
    "                          fs=data.samples_per_second, nperseg=10000)"
   ]
  },
  {
   "cell_type": "code",
   "execution_count": null,
   "metadata": {},
   "outputs": [],
   "source": [
    "fig,ax = plt.subplots(figsize=(6,6))\n",
    "plt.tight_layout()\n",
    "sns.lineplot(f[f <= 60], Cxy[f <= 60], linewidth=1)\n",
    "ax.set_xlabel('Hz')\n",
    "ax.ticklabel_format(axis='y', style='sci', scilimits=(-1,1))\n",
    "ax.set_ylabel('MSC')\n",
    "fig.savefig('{0}/figures/{1}-scan{2}-ecgNoMRIXecgRaw.png'.format(out_dir, basename, i), dpi=300, bbox_inches='tight')"
   ]
  },
  {
   "cell_type": "code",
   "execution_count": null,
   "metadata": {},
   "outputs": [],
   "source": [
    "fft_ecg = np.fft.fft(scan1['ECG'].values)\n",
    "freq = np.fft.fftfreq(scan1['ECG'].values.shape[-1], d=0.0005)\n",
    "fft_ecg_db = 10 * np.log10(abs(fft_ecg))\n",
    "limit = np.where(freq >= 60)[0][0]\n",
    "\n",
    "peaks, _ = signal.find_peaks(fft_ecg.real[:30000], distance=150)"
   ]
  },
  {
   "cell_type": "code",
   "execution_count": null,
   "metadata": {},
   "outputs": [],
   "source": [
    "slice_peaks = []\n",
    "slice_freq = slices / mb / tr\n",
    "for peak in peaks:\n",
    "    remainder = np.round(freq[peak],2) % np.round(slice_freq, 2)\n",
    "    #print(freq[peak], slice_freq, remainder)\n",
    "    if np.isclose(remainder, 0, atol=1e-2) or np.isclose(remainder, slice_freq, atol=1e-1):\n",
    "        slice_peaks.append(peak)"
   ]
  },
  {
   "cell_type": "code",
   "execution_count": null,
   "metadata": {},
   "outputs": [],
   "source": [
    "gridkw = dict(width_ratios=[2,1])\n",
    "fig, (ax1, ax2) = plt.subplots(1, 2, gridspec_kw=gridkw, figsize=(20,5))\n",
    "plt.tight_layout(pad=1)\n",
    "\n",
    "sns.lineplot(signal.decimate(scan1['seconds'], 10)[:6000], \n",
    "            signal.decimate(scan1['ECG'], 10)[:6000], \n",
    "            linewidth=1, ax=ax1) #array, top subplot\n",
    "#sns.lineplot(freq[:100000], fft_ecg_db[:100000], linewidth=1, ax=ax2)\n",
    "sns.lineplot(freq[:limit], \n",
    "            fft_ecg.real[:limit], \n",
    "            ax=ax2, linewidth=1) #bottom subplot\n",
    "ax2.plot(freq[peaks][:220], fft_ecg.real[peaks][:220], \"^\", ms=5)\n",
    "ax2.plot(freq[slice_peaks], fft_ecg.real[slice_peaks], \"o\", ms=7)\n",
    "ax1.set_xlabel('seconds')\n",
    "ax1.set_ylabel('mV')\n",
    "ax2.set_xlabel('Hz')\n",
    "ax2.ticklabel_format(axis='y', style='sci', scilimits=(-1,1))\n",
    "ax2.set_ylabel('Power')\n",
    "\n",
    "fig.savefig('{0}/figures/{1}_scan-{2}_ecg-raw.png'.format(out_dir, basename, i), dpi=300)"
   ]
  },
  {
   "cell_type": "code",
   "execution_count": null,
   "metadata": {},
   "outputs": [],
   "source": [
    "fs / 16"
   ]
  },
  {
   "cell_type": "markdown",
   "metadata": {},
   "source": [
    "### Filtering with BioPac recommendations\n",
    "Note 242 suggests filtering slices/TR"
   ]
  },
  {
   "cell_type": "code",
   "execution_count": null,
   "metadata": {},
   "outputs": [],
   "source": [
    "notch = slices / tr\n",
    "filtered = comb_band_stop(16, scan1['ECG'], Q, fs)\n",
    "f, Cxy = signal.coherence(scan1['ECG'], filtered, fs=data.samples_per_second, nperseg=10000)\n",
    "\n",
    "fft_filt = np.fft.fft(filtered)\n",
    "freq = np.fft.fftfreq(filtered.shape[-1], d=0.0005)\n",
    "fft_ecg_db = 10 * np.log10(abs(fft_filt))\n",
    "limit = np.where(freq >= 60)[0][0]"
   ]
  },
  {
   "cell_type": "code",
   "execution_count": null,
   "metadata": {},
   "outputs": [],
   "source": [
    "fig,ax = plt.subplots(figsize=(6,6))\n",
    "plt.tight_layout()\n",
    "sns.lineplot(f[f <= 60], Cxy[f <= 60], linewidth=1)\n",
    "ax.set_xlabel('Hz')\n",
    "ax.ticklabel_format(axis='y', style='sci', scilimits=(-1,1))\n",
    "ax.set_ylabel('MSC')\n",
    "fig.savefig('{0}/figures/{1}-scan{2}-ecgRawXecgBioPacClean.png'.format(out_dir, basename, i), dpi=300, bbox_inches='tight')"
   ]
  },
  {
   "cell_type": "code",
   "execution_count": null,
   "metadata": {},
   "outputs": [],
   "source": [
    "f, Cxy = signal.coherence(timeseries[timeseries['Trigger'] != 5]['ECG'], \n",
    "                          filtered, \n",
    "                          fs=data.samples_per_second, nperseg=10000)\n",
    "fig,ax = plt.subplots(figsize=(6,6))\n",
    "plt.tight_layout()\n",
    "sns.lineplot(f[f <= 60], Cxy[f <= 60], linewidth=1)\n",
    "ax.set_xlabel('Hz')\n",
    "ax.ticklabel_format(axis='y', style='sci', scilimits=(-1,1))\n",
    "ax.set_ylabel('MSC')\n",
    "fig.savefig('{0}/figures/{1}-scan{2}-ecgNoMRIXecgBioPacClean.png'.format(out_dir, basename, i), dpi=300, bbox_inches='tight')"
   ]
  },
  {
   "cell_type": "code",
   "execution_count": null,
   "metadata": {},
   "outputs": [],
   "source": [
    "gridkw = dict(width_ratios=[2,1])\n",
    "fig,(ax1, ax2) = plt.subplots(1, 2, gridspec_kw=gridkw, figsize=(20,5), sharex='col')\n",
    "plt.tight_layout(pad=1)\n",
    "\n",
    "sns.lineplot(signal.decimate(scan1['seconds'], 10)[:6000], \n",
    "            signal.decimate(filtered, 10)[:6000], \n",
    "            linewidth=1, ax=ax1) #array, top subplot\n",
    "sns.lineplot(freq[:limit], fft_filt.real[:limit], linewidth=1, ax=ax2)\n",
    "ax1.set_xlabel('seconds')\n",
    "ax1.set_ylabel('mV')\n",
    "ax2.set_xlabel('Hz')\n",
    "ax2.ticklabel_format(axis='y', style='sci', scilimits=(-1,1))\n",
    "ax2.set_ylabel('Power')\n",
    "\n",
    "fig.savefig('{0}/figures/{1}-scan{2}-ecg_BioPacClean.png'.format(out_dir, basename, i), dpi=300)\n",
    "#plt.close()"
   ]
  },
  {
   "cell_type": "markdown",
   "metadata": {},
   "source": [
    "### Filtering with the Bottenhorn Recommendations"
   ]
  },
  {
   "cell_type": "code",
   "execution_count": null,
   "metadata": {},
   "outputs": [],
   "source": []
  },
  {
   "cell_type": "code",
   "execution_count": null,
   "metadata": {
    "scrolled": false
   },
   "outputs": [],
   "source": [
    "notches = {'slices': slices / mb / tr, \n",
    "           'tr': 1 / tr}\n",
    "\n",
    "#hp_ecg = butter_highpass_filter(scan1['ECG'], 1, fs, order=5)\n",
    "filtered1 = scan1['ECG']\n",
    "for notch in notches:\n",
    "    filtered1 = comb_band_stop(notches[notch], filtered1, Q, fs)\n",
    "\n",
    "fft_filt1 = np.fft.fft(filtered1)\n",
    "freq1 = np.fft.fftfreq(filtered1.shape[-1], d=0.0005)\n",
    "fft_ecg_db = 10 * np.log10(abs(fft_filt1))\n",
    "limit = np.where(freq1 >= 60)[0][0]"
   ]
  },
  {
   "cell_type": "code",
   "execution_count": null,
   "metadata": {},
   "outputs": [],
   "source": [
    "f, Cxy = signal.coherence(scan1['ECG'], filtered1, fs=data.samples_per_second, nperseg=10000)\n",
    "\n",
    "fig,ax = plt.subplots(figsize=(6,6))\n",
    "plt.tight_layout()\n",
    "sns.lineplot(f[f <= 60], Cxy[f <= 60], linewidth=1)\n",
    "ax.set_xlabel('Hz')\n",
    "ax.ticklabel_format(axis='y', style='sci', scilimits=(-1,1))\n",
    "ax.set_ylabel('MSC')\n",
    "fig.savefig('{0}/figures/{1}-scan{2}-ecgRawXecgBottenClean.png'.format(out_dir, basename, i), dpi=300, bbox_inches='tight')"
   ]
  },
  {
   "cell_type": "code",
   "execution_count": null,
   "metadata": {},
   "outputs": [],
   "source": [
    "f, Cxy = signal.coherence(timeseries[timeseries['Trigger'] != 5]['ECG'], \n",
    "                          filtered1, \n",
    "                          fs=data.samples_per_second, nperseg=10000)\n",
    "fig,ax = plt.subplots(figsize=(6,6))\n",
    "plt.tight_layout()\n",
    "sns.lineplot(f[f <= 60], Cxy[f <= 60], linewidth=1)\n",
    "ax.set_xlabel('Hz')\n",
    "ax.ticklabel_format(axis='y', style='sci', scilimits=(-1,1))\n",
    "ax.set_ylabel('MSC')\n",
    "fig.savefig('{0}/figures/{1}-scan{2}-ecgNoMRIXecgBottenClean.png'.format(out_dir, basename, i), dpi=300, bbox_inches='tight')"
   ]
  },
  {
   "cell_type": "code",
   "execution_count": null,
   "metadata": {},
   "outputs": [],
   "source": [
    "f, Cxy = signal.coherence(filtered, \n",
    "                          filtered1, \n",
    "                          fs=data.samples_per_second, nperseg=10000)\n",
    "fig,ax = plt.subplots(figsize=(6,6))\n",
    "plt.tight_layout()\n",
    "sns.lineplot(f[f <= 60], Cxy[f <= 60], linewidth=1)\n",
    "ax.set_xlabel('Hz')\n",
    "ax.ticklabel_format(axis='y', style='sci', scilimits=(-1,1))\n",
    "ax.set_ylabel('MSC')\n",
    "fig.savefig('{0}/figures/{1}-scan{2}-ecgBioPacCleanXecgBottenClean.png'.format(out_dir, basename, i), dpi=300, bbox_inches='tight')"
   ]
  },
  {
   "cell_type": "code",
   "execution_count": null,
   "metadata": {},
   "outputs": [],
   "source": [
    "gridkw = dict(width_ratios=[2,1])\n",
    "fig,(ax1, ax2) = plt.subplots(1, 2, gridspec_kw=gridkw, figsize=(20,5), sharex='col')\n",
    "plt.tight_layout(pad=1)\n",
    "\n",
    "sns.lineplot(signal.decimate(scan1['seconds'], 10)[:6000], \n",
    "            signal.decimate(filtered1, 10)[:6000], \n",
    "            linewidth=1, ax=ax1) #array, top subplot\n",
    "sns.lineplot(freq1[:limit], abs(fft_filt.real[:limit]), linewidth=1, ax=ax2)\n",
    "ax1.set_xlabel('seconds')\n",
    "ax1.set_ylabel('mV')\n",
    "ax2.set_xlabel('Hz')\n",
    "ax2.ticklabel_format(axis='y', style='sci', scilimits=(-1,1))\n",
    "ax2.set_ylabel('Power')\n",
    "\n",
    "#fig.savefig('{0}/figures/{1}-scan{2}-ecg_BottenClean.png'.format(out_dir, basename, i), dpi=300)\n",
    "#plt.close()"
   ]
  },
  {
   "cell_type": "code",
   "execution_count": null,
   "metadata": {},
   "outputs": [],
   "source": [
    "np.corrcoef(fft_filt.real[:33822], fft_filt1.real[:33822])"
   ]
  },
  {
   "cell_type": "markdown",
   "metadata": {},
   "source": [
    "# EDA!"
   ]
  },
  {
   "cell_type": "code",
   "execution_count": null,
   "metadata": {},
   "outputs": [],
   "source": [
    "data_fname = '/Users/katherine.b/Dropbox/Projects/physio/mbme-physio-denoising/example_data/4232_2_Musser_K23_redux.acq'\n",
    "data = br.read_file(data_fname)\n",
    "basename = data_fname.split('/')[-1][:-4]\n",
    "out_dir = '/Users/katherine.b/Dropbox/Projects/physio/physio-note'\n",
    "\n",
    "if not os.path.exists('{0}/data'.format(out_dir)):\n",
    "    os.mkdir('{0}/data'.format(out_dir))\n",
    "    os.mkdir('{0}/data/clean'.format(out_dir))\n",
    "    os.mkdir('{0}/data/raw'.format(out_dir))\n",
    "    os.mkdir('{0}/figures'.format(out_dir))"
   ]
  },
  {
   "cell_type": "code",
   "execution_count": null,
   "metadata": {},
   "outputs": [],
   "source": [
    "for channel in data.named_channels:\n",
    "    #print(channel)\n",
    "    if 'ECG' in channel:\n",
    "        ecg_channel = channel\n",
    "    elif 'Digital' in channel:\n",
    "        trigger = channel\n",
    "    elif 'EDA' in channel:\n",
    "        eda_channel = channel\n",
    "    elif 'Respiration' in channel:\n",
    "        resp_channel = channel"
   ]
  },
  {
   "cell_type": "code",
   "execution_count": null,
   "metadata": {},
   "outputs": [],
   "source": [
    "timeseries = pd.DataFrame(columns=['ECG', 'EDA', 'Trigger', 'Resp', 'seconds'])\n",
    "\n",
    "timeseries['Trigger'] = data.named_channels[trigger].data\n",
    "timeseries['ECG'] = data.named_channels[ecg_channel].data\n",
    "timeseries['EDA'] = data.named_channels[eda_channel].data\n",
    "timeseries['Resp'] = data.named_channels[resp_channel].data\n",
    "timeseries['seconds'] = data.time_index\n",
    "timeseries.to_csv('{0}/data/raw/{1}-raw.csv'.format(out_dir, basename))\n",
    "\n",
    "#separating timeseries collected during BOLD scan\n",
    "#(where trigger channel = 5V)\n",
    "fives = timeseries[timeseries['Trigger'] == 5].index.values\n",
    "scan_idx = consecutive(fives, stepsize=1)"
   ]
  },
  {
   "cell_type": "code",
   "execution_count": null,
   "metadata": {},
   "outputs": [],
   "source": [
    "#from Erica Musser's K23 EIRT sequence\n",
    "slices = 60\n",
    "tr = 0.8\n",
    "mb = 6\n",
    "cutoff = 120\n",
    "\n",
    "fs = data.samples_per_second\n",
    "\n",
    "nyquist = fs/2\n",
    "Q = 100"
   ]
  },
  {
   "cell_type": "code",
   "execution_count": null,
   "metadata": {},
   "outputs": [],
   "source": [
    "fft_eda = np.fft.fft(timeseries[timeseries['Trigger'] != 5]['EDA'][:1000000])\n",
    "P_bar_eda_noEpi = np.mean(fft_eda)\n",
    "freq = np.fft.fftfreq(timeseries[timeseries['Trigger'] != 5]['EDA'][:1000000].shape[-1], d=0.0005)\n",
    "fft_eda_db = 10 * np.log10(abs(fft_eda))\n",
    "limit = np.where(freq >= 60)[0][0]"
   ]
  },
  {
   "cell_type": "code",
   "execution_count": null,
   "metadata": {},
   "outputs": [],
   "source": [
    "gridkw = dict(width_ratios=[2,1])\n",
    "fig, (ax1, ax2) = plt.subplots(1, 2, gridspec_kw=gridkw, figsize=(20,5))\n",
    "plt.tight_layout(pad=1)\n",
    "\n",
    "sns.lineplot(signal.decimate(timeseries['seconds'][:200000],10)[1000:7000], \n",
    "             signal.decimate(timeseries['EDA'][:200000], 10)[1000:7000], \n",
    "             linewidth=1, ax=ax1) #array, top subplot\n",
    "sns.lineplot(freq[:limit], \n",
    "             fft_eda_db.real[:limit], \n",
    "             ax=ax2, linewidth=1)#bottom subplot\n",
    "ax1.set_xlabel('seconds')\n",
    "ax1.set_ylabel('mV')\n",
    "\n",
    "ax2.set_xlabel('Hz')\n",
    "ax2.ticklabel_format(axis='y', style='sci', scilimits=(-1,1))\n",
    "ax2.set_ylabel('Power')\n",
    "fig.savefig('{0}/figures/{1}-eda_raw-noepi.png'.format(out_dir, basename), dpi=300)"
   ]
  },
  {
   "cell_type": "code",
   "execution_count": null,
   "metadata": {},
   "outputs": [],
   "source": [
    "scans = {}\n",
    "for i in range(len(scan_idx)):\n",
    "    duration = len(scan_idx[i])/2000./60\n",
    "    #print(np.round(duration, 1), 'minutes')\n",
    "    if duration > 2.:\n",
    "        scans[i] = duration\n",
    "print(scans)"
   ]
  },
  {
   "cell_type": "code",
   "execution_count": null,
   "metadata": {},
   "outputs": [],
   "source": [
    "scan1 = timeseries[timeseries.index.isin(scan_idx[1])]\n",
    "time = scan1['seconds'].values"
   ]
  },
  {
   "cell_type": "code",
   "execution_count": null,
   "metadata": {},
   "outputs": [],
   "source": [
    "f, Cxy = signal.coherence(scan1['EDA'], \n",
    "                          timeseries[timeseries['Trigger'] != 5]['EDA'], \n",
    "                          fs=data.samples_per_second, nperseg=100000)"
   ]
  },
  {
   "cell_type": "code",
   "execution_count": null,
   "metadata": {},
   "outputs": [],
   "source": [
    "fig,ax = plt.subplots(figsize=(6,6))\n",
    "plt.tight_layout()\n",
    "sns.lineplot(f[f <= 0.5], Cxy[f <= 0.5], linewidth=1)\n",
    "ax.set_xlabel('Hz')\n",
    "ax.ticklabel_format(axis='y', style='sci', scilimits=(-1,1))\n",
    "ax.set_ylabel('MSC')\n",
    "fig.savefig('{0}/figures/{1}-scan{2}-edaNoMRIXedaRaw.png'.format(out_dir, basename, i), dpi=300)"
   ]
  },
  {
   "cell_type": "code",
   "execution_count": null,
   "metadata": {},
   "outputs": [],
   "source": [
    "fft_eda = np.fft.fft(scan1['EDA'].values)\n",
    "freq = np.fft.fftfreq(scan1['EDA'].values.shape[-1], d=0.0005)\n",
    "fft_eda_db = 10 * np.log10(abs(fft_eda))\n",
    "limit = np.where(freq >= 60)[0][0]\n",
    "\n",
    "peaks, _ = signal.find_peaks(fft_eda.real[:30000], distance=300)"
   ]
  },
  {
   "cell_type": "code",
   "execution_count": null,
   "metadata": {},
   "outputs": [],
   "source": [
    "slice_peaks = []\n",
    "slice_freq = slices / mb / tr\n",
    "for peak in peaks:\n",
    "    remainder = np.round(freq[peak],2) % np.round(slice_freq, 2)\n",
    "    #print(freq[peak], slice_freq, remainder)\n",
    "    if np.isclose(remainder, 0, atol=1e-2) or np.isclose(remainder, slice_freq, atol=1e-1):\n",
    "        slice_peaks.append(peak)\n"
   ]
  },
  {
   "cell_type": "code",
   "execution_count": null,
   "metadata": {},
   "outputs": [],
   "source": [
    "gridkw = dict(width_ratios=[2,1])\n",
    "fig, (ax1, ax2) = plt.subplots(1, 2, gridspec_kw=gridkw, figsize=(20,5))\n",
    "plt.tight_layout(pad=1)\n",
    "\n",
    "sns.lineplot(signal.decimate(scan1['seconds'], 10)[:6000], \n",
    "            signal.decimate(scan1['EDA'], 10)[:6000], \n",
    "            linewidth=1, ax=ax1) #array, top subplot\n",
    "#sns.lineplot(freq[:100000], fft_eda_db[:100000], linewidth=1, ax=ax2)\n",
    "sns.lineplot(freq[:limit], \n",
    "            fft_eda_db[:limit], \n",
    "            ax=ax2, linewidth=1) #bottom subplot\n",
    "ax2.plot(freq[peaks][:50], fft_eda_db[peaks][:50], \"^\", ms=5)\n",
    "ax2.plot(freq[slice_peaks], fft_eda_db[slice_peaks], \"o\", ms=7)\n",
    "ax1.set_xlabel('seconds')\n",
    "ax1.set_ylabel('mV')\n",
    "ax2.set_xlabel('Hz')\n",
    "ax2.ticklabel_format(axis='y', style='sci', scilimits=(-1,1))\n",
    "ax2.set_ylabel('Power')\n",
    "\n",
    "fig.savefig('{0}/figures/{1}_scan-{2}_eda-raw.png'.format(out_dir, basename, i), dpi=300)"
   ]
  },
  {
   "cell_type": "code",
   "execution_count": null,
   "metadata": {},
   "outputs": [],
   "source": [
    "#hp_ecg = butter_highpass_filter(scan1['ECG'], 1, fs, order=5)\n",
    "notch = slices / tr\n",
    "filtered = comb_band_stop(notch, scan1['EDA'], Q, fs)\n",
    "f, Cxy = signal.coherence(scan1['EDA'], filtered, fs=data.samples_per_second, nperseg=100000)\n",
    "\n",
    "fft_filt = np.fft.fft(filtered)\n",
    "freq = np.fft.fftfreq(filtered.shape[-1], d=0.0005)\n",
    "fft_eda_db = 10 * np.log10(abs(fft_filt))\n",
    "limit = np.where(freq >= 60)[0][0]"
   ]
  },
  {
   "cell_type": "code",
   "execution_count": null,
   "metadata": {},
   "outputs": [],
   "source": [
    "fig,ax = plt.subplots(figsize=(6,6))\n",
    "plt.tight_layout()\n",
    "sns.lineplot(f[f <= 0.5], Cxy[f <= 0.5], linewidth=1)\n",
    "\n",
    "ax.set_xlabel('Hz')\n",
    "ax.ticklabel_format(axis='y', style='sci', scilimits=(-1,1))\n",
    "ax.set_ylabel('MSC')\n",
    "fig.savefig('{0}/figures/{1}-scan{2}-edaRawXedaBioPacClean.png'.format(out_dir, basename, i), dpi=300)"
   ]
  },
  {
   "cell_type": "code",
   "execution_count": null,
   "metadata": {},
   "outputs": [],
   "source": [
    "f, Cxy = signal.coherence(timeseries[timeseries['Trigger'] != 5]['EDA'], \n",
    "                          filtered, fs=data.samples_per_second, nperseg=100000)\n",
    "\n",
    "fig,ax = plt.subplots(figsize=(6,6))\n",
    "plt.tight_layout()\n",
    "sns.lineplot(f[f <= 0.5], Cxy[f <= 0.5], linewidth=1)\n",
    "ax.set_xlabel('Hz')\n",
    "ax.ticklabel_format(axis='y', style='sci', scilimits=(-1,1))\n",
    "ax.set_ylabel('MSC')\n",
    "fig.savefig('{0}/figures/{1}-scan{2}-edaNoMRIXedaBioPacClean.png'.format(out_dir, basename, i), dpi=300)"
   ]
  },
  {
   "cell_type": "code",
   "execution_count": null,
   "metadata": {},
   "outputs": [],
   "source": [
    "gridkw = dict(width_ratios=[2,1])\n",
    "fig,(ax1, ax2) = plt.subplots(1, 2, gridspec_kw=gridkw, figsize=(20,5), sharex='col')\n",
    "plt.tight_layout(pad=1)\n",
    "\n",
    "sns.lineplot(signal.decimate(scan1['seconds'], 10)[:6000], \n",
    "            signal.decimate(filtered, 10)[:6000], \n",
    "            linewidth=1, ax=ax1) #array, top subplot\n",
    "sns.lineplot(freq[:limit], \n",
    "             fft_eda_db[:limit], linewidth=1, ax=ax2)\n",
    "\n",
    "ax1.set_xlabel('seconds')\n",
    "ax1.set_ylabel('mV')\n",
    "ax2.set_xlabel('Hz')\n",
    "ax2.ticklabel_format(axis='y', style='sci', scilimits=(-1,1))\n",
    "ax2.set_ylabel('Power')\n",
    "\n",
    "fig.savefig('{0}/figures/{1}-scan{2}-eda_BioPacClean.png'.format(out_dir, basename, i), dpi=300)\n",
    "#plt.close()"
   ]
  },
  {
   "cell_type": "code",
   "execution_count": null,
   "metadata": {},
   "outputs": [],
   "source": [
    "#hp_ecg = butter_highpass_filter(scan1['ECG'], 1, fs, order=5)\n",
    "notch = slices / mb / tr\n",
    "filtered1 = comb_band_stop(notch, scan1['EDA'], Q, fs)\n",
    "f, Cxy = signal.coherence(scan1['EDA'], filtered1, fs=data.samples_per_second, nperseg=100000)\n",
    "\n",
    "fft_filt = np.fft.fft(filtered1)\n",
    "freq = np.fft.fftfreq(filtered1.shape[-1], d=0.0005)\n",
    "fft_eda_db = 10 * np.log10(abs(fft_filt))\n",
    "limit = np.where(freq >= 60)[0][0]"
   ]
  },
  {
   "cell_type": "code",
   "execution_count": null,
   "metadata": {},
   "outputs": [],
   "source": [
    "gridkw = dict(width_ratios=[2,1])\n",
    "fig,(ax1, ax2) = plt.subplots(1, 2, gridspec_kw=gridkw, figsize=(20,5), sharex='col')\n",
    "plt.tight_layout(pad=1)\n",
    "\n",
    "sns.lineplot(signal.decimate(scan1['seconds'], 10)[:6000], \n",
    "            signal.decimate(filtered1, 10)[:6000], \n",
    "            linewidth=1, ax=ax1) #array, top subplot\n",
    "sns.lineplot(freq[:limit], \n",
    "             fft_eda_db[:limit], linewidth=1, ax=ax2)\n",
    "\n",
    "ax1.set_xlabel('seconds')\n",
    "ax1.set_ylabel('mV')\n",
    "ax2.set_xlabel('Hz')\n",
    "ax2.ticklabel_format(axis='y', style='sci', scilimits=(-1,1))\n",
    "ax2.set_ylabel('Power')\n",
    "\n",
    "fig.savefig('{0}/figures/{1}-scan{2}-eda_BottenClean.png'.format(out_dir, basename, i), dpi=300)\n",
    "#plt.close()"
   ]
  },
  {
   "cell_type": "code",
   "execution_count": null,
   "metadata": {},
   "outputs": [],
   "source": [
    "fig,ax = plt.subplots(figsize=(6,6))\n",
    "plt.tight_layout()\n",
    "sns.lineplot(f[f <= 0.5], Cxy[f <= 0.5], linewidth=1)\n",
    "ax.set_xlabel('Hz')\n",
    "ax.set_ylabel('MSC')\n",
    "fig.savefig('{0}/figures/{1}-scan{2}-edaRawXedaBottenClean.png'.format(out_dir, basename, i), dpi=300)"
   ]
  },
  {
   "cell_type": "code",
   "execution_count": null,
   "metadata": {},
   "outputs": [],
   "source": [
    "f, Cxy = signal.coherence(timeseries[timeseries['Trigger'] != 5]['EDA'], filtered1, \n",
    "                          fs=data.samples_per_second, nperseg=100000)\n",
    "fig,ax = plt.subplots(figsize=(6,6))\n",
    "plt.tight_layout()\n",
    "sns.lineplot(f[f <= 0.5], Cxy[f <= 0.5], linewidth=1)\n",
    "ax.set_xlabel('Hz')\n",
    "ax.set_ylabel('MSC')\n",
    "ax.ticklabel_format(axis='y', style='sci', scilimits=(-1,1))\n",
    "\n",
    "fig.savefig('{0}/figures/{1}-scan{2}-edaNoMRIXedaBottenClean.png'.format(out_dir, basename, i), dpi=300)"
   ]
  },
  {
   "cell_type": "code",
   "execution_count": null,
   "metadata": {},
   "outputs": [],
   "source": [
    "f, Cxy = signal.coherence(filtered, filtered1, fs=data.samples_per_second, nperseg=100000)\n",
    "fig,ax = plt.subplots(figsize=(6,6))\n",
    "plt.tight_layout()\n",
    "sns.lineplot(f[f <= 0.5], Cxy[f <= 0.5], linewidth=1)\n",
    "\n",
    "ax.set_xlabel('Hz')\n",
    "ax.set_ylabel('MSC')\n",
    "ax2.ticklabel_format(axis='y', style='sci', scilimits=(-1,1))\n",
    "\n",
    "fig.savefig('{0}/figures/{1}-scan{2}-edaBioPacCleanXedaBottenClean.png'.format(out_dir, basename, i), dpi=300)"
   ]
  },
  {
   "cell_type": "markdown",
   "metadata": {},
   "source": [
    "## Multiband, multiecho BOLD EPI sequence"
   ]
  },
  {
   "cell_type": "code",
   "execution_count": null,
   "metadata": {},
   "outputs": [],
   "source": [
    "data_fname = '/Users/katherine.b/Dropbox/Projects/physio/mbme-physio-denoising/example_data/sub-Blossom_ses-01.acq'\n",
    "data = br.read_file(data_fname)\n",
    "basename = data_fname.split('/')[-1][:-4]\n",
    "out_dir = '/Users/katherine.b/Dropbox/Projects/physio/physio-note'\n",
    "\n",
    "if not os.path.exists('{0}/data'.format(out_dir)):\n",
    "    os.mkdir('{0}/data'.format(out_dir))\n",
    "    os.mkdir('{0}/data/clean'.format(out_dir))\n",
    "    os.mkdir('{0}/data/raw'.format(out_dir))\n",
    "    os.mkdir('{0}/figures'.format(out_dir))"
   ]
  },
  {
   "cell_type": "code",
   "execution_count": null,
   "metadata": {},
   "outputs": [],
   "source": [
    "for channel in data.named_channels:\n",
    "    #print(channel)\n",
    "    if 'ECG' in channel:\n",
    "        ecg_channel = channel\n",
    "    elif 'Trigger' in channel:\n",
    "        trigger = channel\n",
    "    elif 'EDA' in channel:\n",
    "        eda_channel = channel\n",
    "    elif 'Respiration' in channel:\n",
    "        resp_channel = channel\n"
   ]
  },
  {
   "cell_type": "code",
   "execution_count": null,
   "metadata": {},
   "outputs": [],
   "source": [
    "timeseries = pd.DataFrame(columns=['ECG', 'EDA', 'Trigger', 'Resp', 'seconds'])\n",
    "\n",
    "timeseries['Trigger'] = data.named_channels[trigger].data\n",
    "timeseries['ECG'] = data.named_channels[ecg_channel].data\n",
    "timeseries['EDA'] = data.named_channels[eda_channel].data\n",
    "timeseries['Resp'] = data.named_channels[resp_channel].data\n",
    "timeseries['seconds'] = data.time_index\n",
    "timeseries.to_csv('{0}/data/raw/{1}-raw.csv'.format(out_dir, basename))\n",
    "\n",
    "#separating timeseries collected during BOLD scan\n",
    "#(where trigger channel = 5V)\n",
    "fives = timeseries[timeseries['Trigger'] == 5].index.values\n",
    "scan_idx = consecutive(fives, stepsize=1)"
   ]
  },
  {
   "cell_type": "code",
   "execution_count": null,
   "metadata": {},
   "outputs": [],
   "source": [
    "#arranging noisy frequencies to be filtered out\n",
    "slices = 48\n",
    "tr = 1.5\n",
    "mb = 3\n",
    "cutoff = 120\n",
    "\n",
    "fs = data.samples_per_second\n",
    "\n",
    "#I don't know if this is right, been playing around with the value of Q\n",
    "Q = 100\n",
    "\n",
    "nyquist = fs/2"
   ]
  },
  {
   "cell_type": "code",
   "execution_count": null,
   "metadata": {},
   "outputs": [],
   "source": [
    "fft_eda = np.fft.fft(timeseries[timeseries['Trigger'] != 5]['EDA'][:1000000])\n",
    "freq = np.fft.fftfreq(timeseries[timeseries['Trigger'] != 5]['EDA'][:1000000].shape[-1], d=0.0005)\n",
    "fft_eda_db = 10 * np.log10(abs(fft_eda))\n",
    "limit = np.where(freq >= 60)[0][0]"
   ]
  },
  {
   "cell_type": "code",
   "execution_count": null,
   "metadata": {},
   "outputs": [],
   "source": [
    "gridkw = dict(width_ratios=[2,1])\n",
    "fig, (ax1, ax2) = plt.subplots(1, 2, gridspec_kw=gridkw, figsize=(20,5))\n",
    "plt.tight_layout(pad=1)\n",
    "\n",
    "sns.lineplot(signal.decimate(timeseries['seconds'][:200000],10)[:6000], \n",
    "             signal.decimate(timeseries['EDA'][:200000], 10)[:6000], \n",
    "             linewidth=1, ax=ax1) #array, top subplot\n",
    "sns.lineplot(freq[:limit], \n",
    "             fft_eda_db[:limit], \n",
    "             ax=ax2, linewidth=1)#bottom subplot\n",
    "ax1.set_xlabel('seconds')\n",
    "ax1.set_ylabel('mV')\n",
    "\n",
    "ax2.set_xlabel('Hz')\n",
    "ax2.ticklabel_format(axis='y', style='sci', scilimits=(-1,1))\n",
    "ax2.set_ylabel('Power')\n",
    "fig.savefig('{0}/figures/{1}-eda_raw-noepi.png'.format(out_dir, basename), dpi=300)"
   ]
  },
  {
   "cell_type": "code",
   "execution_count": null,
   "metadata": {},
   "outputs": [],
   "source": [
    "scans = {}\n",
    "for i in range(len(scan_idx)):\n",
    "    duration = len(scan_idx[i])/2000./60\n",
    "    #print(np.round(duration, 1), 'minutes')\n",
    "    if duration > 2.:\n",
    "        scans[i] = duration\n",
    "print(scans)"
   ]
  },
  {
   "cell_type": "code",
   "execution_count": null,
   "metadata": {},
   "outputs": [],
   "source": [
    "scan1 = timeseries[timeseries.index.isin(scan_idx[0])]\n",
    "time = scan1['seconds'].values"
   ]
  },
  {
   "cell_type": "code",
   "execution_count": null,
   "metadata": {},
   "outputs": [],
   "source": [
    "f, Cxy = signal.coherence(scan1['EDA'], \n",
    "                          timeseries[timeseries['Trigger'] != 5]['EDA'], \n",
    "                          fs=data.samples_per_second, nperseg=100000)"
   ]
  },
  {
   "cell_type": "code",
   "execution_count": null,
   "metadata": {},
   "outputs": [],
   "source": [
    "fig,ax = plt.subplots(figsize=(6,6))\n",
    "plt.tight_layout()\n",
    "sns.lineplot(f[f <0 0.5], Cxy[f <= 0.5], linewidth=1)\n",
    "\n",
    "ax.set_xlabel('Hz')\n",
    "ax.ticklabel_format(axis='y', style='sci', scilimits=(-1,1))\n",
    "ax.set_ylabel('MSC')\n",
    "fig.savefig('{0}/figures/{1}-scan{2}-edaNoMRIXedaRaw.png'.format(out_dir, basename, i), dpi=300)"
   ]
  },
  {
   "cell_type": "code",
   "execution_count": null,
   "metadata": {},
   "outputs": [],
   "source": [
    "fft_eda = np.fft.fft(scan1['EDA'].values)\n",
    "freq = np.fft.fftfreq(scan1['EDA'].values.shape[-1], d=0.0005)\n",
    "fft_eda_db = 10 * np.log10(abs(fft_eda))\n",
    "limit = np.where(freq >= 60)[0][0]\n",
    "\n",
    "peaks, _ = signal.find_peaks(fft_eda.real[:30000], distance=150)"
   ]
  },
  {
   "cell_type": "code",
   "execution_count": null,
   "metadata": {},
   "outputs": [],
   "source": [
    "slice_peaks = []\n",
    "slice_freq = slices / mb / tr\n",
    "for peak in peaks:\n",
    "    remainder = np.round(freq[peak],2) % np.round(slice_freq, 2)\n",
    "    #print(freq[peak], slice_freq, remainder)\n",
    "    if np.isclose(remainder, 0, atol=1e-2) or np.isclose(remainder, slice_freq, atol=1e-1):\n",
    "        slice_peaks.append(peak)"
   ]
  },
  {
   "cell_type": "code",
   "execution_count": null,
   "metadata": {},
   "outputs": [],
   "source": [
    "gridkw = dict(width_ratios=[2,1])\n",
    "fig, (ax1, ax2) = plt.subplots(1, 2, gridspec_kw=gridkw, figsize=(20,5))\n",
    "plt.tight_layout(pad=1)\n",
    "\n",
    "sns.lineplot(signal.decimate(scan1['seconds'], 10)[:6000], \n",
    "            signal.decimate(scan1['EDA'], 10)[:6000], \n",
    "            linewidth=1, ax=ax1) #array, top subplot\n",
    "#sns.lineplot(freq[:100000], fft_eda_db[:100000], linewidth=1, ax=ax2)\n",
    "sns.lineplot(freq[:limit], \n",
    "            fft_eda_db.real[:limit], \n",
    "            ax=ax2, linewidth=1) #bottom subplot\n",
    "ax2.plot(freq[peaks][:220], fft_eda_db.real[peaks][:220], \"^\", ms=5)\n",
    "ax2.plot(freq[slice_peaks], fft_eda_db.real[slice_peaks], \"o\", ms=7)\n",
    "ax1.set_xlabel('seconds')\n",
    "ax1.set_ylabel('mV')\n",
    "ax2.set_xlabel('Hz')\n",
    "ax2.ticklabel_format(axis='y', style='sci', scilimits=(-1,1))\n",
    "ax2.set_ylabel('Power')\n",
    "\n",
    "fig.savefig('{0}/figures/{1}_scan-{2}_eda-raw.png'.format(out_dir, basename, i), dpi=300)"
   ]
  },
  {
   "cell_type": "markdown",
   "metadata": {},
   "source": [
    "### BioPac recommendations"
   ]
  },
  {
   "cell_type": "code",
   "execution_count": null,
   "metadata": {},
   "outputs": [],
   "source": [
    "notch = slices / tr\n",
    "filtered = comb_band_stop(notch, scan1['EDA'], Q, fs)\n",
    "f, Cxy = signal.coherence(scan1['EDA'], filtered, fs=data.samples_per_second, nperseg=100000)\n",
    "\n",
    "fft_filt = np.fft.fft(filtered)\n",
    "freq = np.fft.fftfreq(filtered.shape[-1], d=0.0005)\n",
    "fft_eda_db = 10 * np.log10(abs(fft_filt))\n",
    "limit = np.where(freq >= 60)[0][0]"
   ]
  },
  {
   "cell_type": "code",
   "execution_count": null,
   "metadata": {},
   "outputs": [],
   "source": [
    "fig,ax = plt.subplots(figsize=(6,6))\n",
    "plt.tight_layout()\n",
    "sns.lineplot(f[f <= 0.5], Cxy[f <= 0.5], linewidth=1)\n",
    "\n",
    "ax.set_xlabel('Hz')\n",
    "ax.ticklabel_format(axis='y', style='sci', scilimits=(-1,1))\n",
    "ax.set_ylabel('MSC')\n",
    "fig.savefig('{0}/figures/{1}-scan{2}-edaRawXedaBioPacClean.png'.format(out_dir, basename, i), dpi=300)"
   ]
  },
  {
   "cell_type": "code",
   "execution_count": null,
   "metadata": {},
   "outputs": [],
   "source": [
    "gridkw = dict(width_ratios=[2,1])\n",
    "fig,(ax1, ax2) = plt.subplots(1, 2, gridspec_kw=gridkw, figsize=(20,5), sharex='col')\n",
    "plt.tight_layout(pad=1)\n",
    "\n",
    "sns.lineplot(signal.decimate(scan1['seconds'], 10)[:6000], \n",
    "            signal.decimate(filtered, 10)[:6000], \n",
    "            linewidth=1, ax=ax1) #array, top subplot\n",
    "sns.lineplot(freq[:limit], fft_eda_db.real[:limit], linewidth=1, ax=ax2)\n",
    "\n",
    "ax1.set_xlabel('seconds')\n",
    "ax1.set_ylabel('mV')\n",
    "ax2.set_xlabel('Hz')\n",
    "ax2.ticklabel_format(axis='y', style='sci', scilimits=(-1,1))\n",
    "ax2.set_ylabel('Power')\n",
    "fig.savefig('{0}/figures/{1}-scan{2}-eda_BioPacClean.png'.format(out_dir, basename, i), dpi=300)\n",
    "#plt.close()"
   ]
  },
  {
   "cell_type": "markdown",
   "metadata": {},
   "source": [
    "### Bottenhorn recommendations"
   ]
  },
  {
   "cell_type": "code",
   "execution_count": null,
   "metadata": {},
   "outputs": [],
   "source": [
    "notches = {'slices': slices / mb / tr, \n",
    "           'tr': 1 / tr}\n",
    "\n",
    "#hp_eda = butter_highpass_filter(scan1['ECG'], 1, fs, order=5)\n",
    "filtered1 = scan1['EDA']\n",
    "for notch in notches:\n",
    "    filtered1 = comb_band_stop(notches[notch], filtered1, Q, fs)\n",
    "\n",
    "f, Cxy = signal.coherence(scan1['EDA'], filtered1, fs=data.samples_per_second, nperseg=100000)\n",
    "\n",
    "fft_filt = np.fft.fft(filtered1)\n",
    "freq = np.fft.fftfreq(filtered1.shape[-1], d=0.0005)\n",
    "fft_eda_db = 10 * np.log10(abs(fft_filt))\n",
    "limit = np.where(freq >= 60)[0][0]"
   ]
  },
  {
   "cell_type": "code",
   "execution_count": null,
   "metadata": {},
   "outputs": [],
   "source": [
    "fig,ax = plt.subplots(figsize=(6,6))\n",
    "plt.tight_layout()\n",
    "sns.lineplot(f[f <= 0.5], Cxy[f <= 0.5], linewidth=1)\n",
    "ax.set_xlabel('Hz')\n",
    "ax.ticklabel_format(axis='y', style='sci', scilimits=(-1,1))\n",
    "ax.set_ylabel('MSC')\n",
    "fig.savefig('{0}/figures/{1}-scan{2}-edaRawXedaBottenClean.png'.format(out_dir, basename, i), dpi=300)"
   ]
  },
  {
   "cell_type": "code",
   "execution_count": null,
   "metadata": {},
   "outputs": [],
   "source": [
    "f, Cxy = signal.coherence(timeseries[timeseries['Trigger'] != 5]['EDA'], \n",
    "                          filtered, \n",
    "                          fs=data.samples_per_second, nperseg=100000)\n",
    "fig,ax = plt.subplots(figsize=(6,6))\n",
    "plt.tight_layout()\n",
    "sns.lineplot(f[f <= 0.5], Cxy[f <= 0.5], linewidth=1)\n",
    "ax.set_xlabel('Hz')\n",
    "ax.ticklabel_format(axis='y', style='sci', scilimits=(-1,1))\n",
    "ax.set_ylabel('MSC')\n",
    "fig.savefig('{0}/figures/{1}-scan{2}-edaNoMRIXedaBioPacClean.png'.format(out_dir, basename, i), dpi=300)"
   ]
  },
  {
   "cell_type": "code",
   "execution_count": null,
   "metadata": {},
   "outputs": [],
   "source": [
    "f, Cxy = signal.coherence(filtered1, \n",
    "                          timeseries[timeseries['Trigger'] != 5]['EDA'], \n",
    "                          fs=data.samples_per_second, nperseg=100000)"
   ]
  },
  {
   "cell_type": "code",
   "execution_count": null,
   "metadata": {},
   "outputs": [],
   "source": [
    "fig,ax = plt.subplots(figsize=(6,6))\n",
    "sns.lineplot(f[f <= 0.5], Cxy[f <= 0.5], linewidth=1)\n",
    "plt.tight_layout()\n",
    "ax.set_xlabel('Hz')\n",
    "ax.ticklabel_format(axis='y', style='sci', scilimits=(-1,1))\n",
    "ax.set_ylabel('MSC')\n",
    "fig.savefig('{0}/figures/{1}-scan{2}-edaNoMRIXedaBottenClean.png'.format(out_dir, basename, i), dpi=300)"
   ]
  },
  {
   "cell_type": "code",
   "execution_count": null,
   "metadata": {},
   "outputs": [],
   "source": [
    "f, Cxy = signal.coherence(filtered1, \n",
    "                          filtered, \n",
    "                          fs=data.samples_per_second, nperseg=100000)"
   ]
  },
  {
   "cell_type": "code",
   "execution_count": null,
   "metadata": {},
   "outputs": [],
   "source": [
    "fig,ax = plt.subplots(figsize=(6,6))\n",
    "sns.lineplot(f[f <= 0.5], Cxy[f <= 0.5], linewidth=1)\n",
    "plt.tight_layout()\n",
    "ax.set_xlabel('Hz')\n",
    "ax.ticklabel_format(axis='y', style='sci', scilimits=(-1,1))\n",
    "ax.set_ylabel('MSC')\n",
    "fig.savefig('{0}/figures/{1}-scan{2}-edaBioPacCleanXedaBottenClean.png'.format(out_dir, basename, i), dpi=300)"
   ]
  },
  {
   "cell_type": "code",
   "execution_count": null,
   "metadata": {},
   "outputs": [],
   "source": [
    "gridkw = dict(width_ratios=[2,1])\n",
    "fig,(ax1, ax2) = plt.subplots(1, 2, gridspec_kw=gridkw, figsize=(20,5), sharex='col')\n",
    "plt.tight_layout(pad=1)\n",
    "\n",
    "sns.lineplot(signal.decimate(scan1['seconds'], 10)[:6000], \n",
    "            signal.decimate(filtered1, 10)[:6000], \n",
    "            linewidth=1, ax=ax1) #array, top subplot\n",
    "sns.lineplot(freq[:limit], fft_eda_db.real[:limit], linewidth=1, ax=ax2)\n",
    "\n",
    "ax1.set_xlabel('seconds')\n",
    "ax1.set_ylabel('mV')\n",
    "ax2.set_xlabel('Hz')\n",
    "ax2.ticklabel_format(axis='y', style='sci', scilimits=(-1,1))\n",
    "ax2.set_ylabel('Power')\n",
    "fig.savefig('{0}/figures/{1}-scan{2}-eda_BottenClean.png'.format(out_dir, basename, i), dpi=300)\n",
    "#plt.close()"
   ]
  },
  {
   "cell_type": "code",
   "execution_count": null,
   "metadata": {},
   "outputs": [],
   "source": []
  },
  {
   "cell_type": "code",
   "execution_count": null,
   "metadata": {},
   "outputs": [],
   "source": []
  },
  {
   "cell_type": "code",
   "execution_count": null,
   "metadata": {},
   "outputs": [],
   "source": []
  }
 ],
 "metadata": {
  "kernelspec": {
   "display_name": "Python 3 (ipykernel)",
   "language": "python",
   "name": "python3"
  },
  "language_info": {
   "codemirror_mode": {
    "name": "ipython",
    "version": 3
   },
   "file_extension": ".py",
   "mimetype": "text/x-python",
   "name": "python",
   "nbconvert_exporter": "python",
   "pygments_lexer": "ipython3",
   "version": "3.8.9"
  }
 },
 "nbformat": 4,
 "nbformat_minor": 4
}
